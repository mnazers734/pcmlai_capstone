{
 "cells": [
  {
   "cell_type": "markdown",
   "id": "6bcb40ff",
   "metadata": {},
   "source": [
    "### Notebook for cleaning merged dataset from DiagUsagePowerBI_merged.xlsx\n"
   ]
  },
  {
   "cell_type": "code",
   "execution_count": 221,
   "id": "67d51b16-3855-4391-8729-59752e7b4e1f",
   "metadata": {},
   "outputs": [],
   "source": [
    "import matplotlib.pyplot as plt\n",
    "import seaborn as sns\n",
    "import statistics\n",
    "import pandas as pd\n",
    "import numpy as np"
   ]
  },
  {
   "cell_type": "code",
   "execution_count": 222,
   "id": "b324f815-d72b-4b76-80aa-2cc3db31c01f",
   "metadata": {},
   "outputs": [],
   "source": [
    "#import dataset with all dates merged to a single table\n",
    "diag_usage_df = pd.read_excel('../Data/DiagUsagePowerBI_merged.xlsx', sheet_name='connect_system')"
   ]
  },
  {
   "cell_type": "code",
   "execution_count": 223,
   "id": "7fd6cf36-121e-4d41-8565-0f1f944046c5",
   "metadata": {},
   "outputs": [
    {
     "data": {
      "text/html": [
       "<div>\n",
       "<style scoped>\n",
       "    .dataframe tbody tr th:only-of-type {\n",
       "        vertical-align: middle;\n",
       "    }\n",
       "\n",
       "    .dataframe tbody tr th {\n",
       "        vertical-align: top;\n",
       "    }\n",
       "\n",
       "    .dataframe thead th {\n",
       "        text-align: right;\n",
       "    }\n",
       "</style>\n",
       "<table border=\"1\" class=\"dataframe\">\n",
       "  <thead>\n",
       "    <tr style=\"text-align: right;\">\n",
       "      <th></th>\n",
       "      <th>timestamp</th>\n",
       "      <th>siteId</th>\n",
       "      <th>billable_status</th>\n",
       "      <th>OsName</th>\n",
       "      <th>client_OS</th>\n",
       "      <th>vin</th>\n",
       "      <th>year</th>\n",
       "      <th>make</th>\n",
       "      <th>model</th>\n",
       "      <th>system</th>\n",
       "      <th>veh_desc</th>\n",
       "      <th>vci_version</th>\n",
       "      <th>scan_method</th>\n",
       "      <th>batt_voltage</th>\n",
       "      <th>result_string</th>\n",
       "      <th>result</th>\n",
       "      <th>state</th>\n",
       "      <th>city</th>\n",
       "      <th>product_type</th>\n",
       "      <th>postal_code</th>\n",
       "    </tr>\n",
       "  </thead>\n",
       "  <tbody>\n",
       "    <tr>\n",
       "      <th>137755</th>\n",
       "      <td>2025-02-05 22:34:34.756</td>\n",
       "      <td>87302</td>\n",
       "      <td>BILL</td>\n",
       "      <td>Windows</td>\n",
       "      <td>Windows 10.0.19045</td>\n",
       "      <td>5FPYK3F7XHB</td>\n",
       "      <td>2017.0</td>\n",
       "      <td>Honda</td>\n",
       "      <td>Ridgeline</td>\n",
       "      <td>Anti-Lock Brakes</td>\n",
       "      <td>2017 Honda Ridgeline Anti-Lock Brakes</td>\n",
       "      <td>22.1.2418.1</td>\n",
       "      <td>quick_scan</td>\n",
       "      <td>13.86</td>\n",
       "      <td>Successfully connected to vehicle</td>\n",
       "      <td>success</td>\n",
       "      <td>MO</td>\n",
       "      <td>JOPLIN</td>\n",
       "      <td>COLLISION</td>\n",
       "      <td>64801-4908</td>\n",
       "    </tr>\n",
       "    <tr>\n",
       "      <th>144352</th>\n",
       "      <td>2025-01-30 20:49:58.634</td>\n",
       "      <td>352624</td>\n",
       "      <td>BILL</td>\n",
       "      <td>Android</td>\n",
       "      <td>Android 11</td>\n",
       "      <td>5FNRL6H72KB</td>\n",
       "      <td>2019.0</td>\n",
       "      <td>Honda</td>\n",
       "      <td>Odyssey</td>\n",
       "      <td>Enhanced Powertrain</td>\n",
       "      <td>2019 Honda Odyssey Enhanced Powertrain</td>\n",
       "      <td>21.2.2323.1</td>\n",
       "      <td>quick_scan</td>\n",
       "      <td>11.72</td>\n",
       "      <td>Successfully connected to vehicle</td>\n",
       "      <td>success</td>\n",
       "      <td>IN</td>\n",
       "      <td>Indianapolis</td>\n",
       "      <td>COLLISION</td>\n",
       "      <td>46240-3738</td>\n",
       "    </tr>\n",
       "    <tr>\n",
       "      <th>99272</th>\n",
       "      <td>2024-10-19 01:47:35.834</td>\n",
       "      <td>36259</td>\n",
       "      <td>BILL</td>\n",
       "      <td>Android</td>\n",
       "      <td>Android 12</td>\n",
       "      <td>1N4AL3AP2DN</td>\n",
       "      <td>2013.0</td>\n",
       "      <td>Altima</td>\n",
       "      <td>Altima</td>\n",
       "      <td>Enhanced Powertrain CAN</td>\n",
       "      <td>2013 Nissan Altima Enhanced Powertrain CAN</td>\n",
       "      <td>21.2.2323.1</td>\n",
       "      <td>quick_scan</td>\n",
       "      <td>NaN</td>\n",
       "      <td>Successfully connected to vehicle</td>\n",
       "      <td>success</td>\n",
       "      <td>BC</td>\n",
       "      <td>Surrey</td>\n",
       "      <td>COLLISION</td>\n",
       "      <td>V3W 6Y5</td>\n",
       "    </tr>\n",
       "    <tr>\n",
       "      <th>64958</th>\n",
       "      <td>2024-11-25 20:34:55.748</td>\n",
       "      <td>357990</td>\n",
       "      <td>BILL</td>\n",
       "      <td>Android</td>\n",
       "      <td>Android 10</td>\n",
       "      <td>1FM5K7F87JG</td>\n",
       "      <td>2018.0</td>\n",
       "      <td>Ford</td>\n",
       "      <td>Explorer</td>\n",
       "      <td>Enhanced Powertrain CAN</td>\n",
       "      <td>2018 Ford Explorer Enhanced Powertrain CAN</td>\n",
       "      <td>22.3.2439.2</td>\n",
       "      <td>quick_scan</td>\n",
       "      <td>12.19</td>\n",
       "      <td>Successfully connected to vehicle</td>\n",
       "      <td>success</td>\n",
       "      <td>CA</td>\n",
       "      <td>SANTA MARIA</td>\n",
       "      <td>COLLISION</td>\n",
       "      <td>93454-5126</td>\n",
       "    </tr>\n",
       "    <tr>\n",
       "      <th>56049</th>\n",
       "      <td>2024-11-25 17:11:54.639</td>\n",
       "      <td>618180</td>\n",
       "      <td>BILL</td>\n",
       "      <td>Android</td>\n",
       "      <td>Android 14</td>\n",
       "      <td>3VWW57AU8KM</td>\n",
       "      <td>2019.0</td>\n",
       "      <td>Volkswagen</td>\n",
       "      <td>Golf</td>\n",
       "      <td>01 - Engine</td>\n",
       "      <td>2019 Volkswagen Golf 01 - Engine</td>\n",
       "      <td>22.1.2418.1</td>\n",
       "      <td>manual scan</td>\n",
       "      <td>14.66</td>\n",
       "      <td>Successfully connected to vehicle</td>\n",
       "      <td>success</td>\n",
       "      <td>QC</td>\n",
       "      <td>CHICOUTIMI</td>\n",
       "      <td>COLLISION</td>\n",
       "      <td>G7G 1T4</td>\n",
       "    </tr>\n",
       "  </tbody>\n",
       "</table>\n",
       "</div>"
      ],
      "text/plain": [
       "                     timestamp  siteId billable_status   OsName  \\\n",
       "137755 2025-02-05 22:34:34.756   87302            BILL  Windows   \n",
       "144352 2025-01-30 20:49:58.634  352624            BILL  Android   \n",
       "99272  2024-10-19 01:47:35.834   36259            BILL  Android   \n",
       "64958  2024-11-25 20:34:55.748  357990            BILL  Android   \n",
       "56049  2024-11-25 17:11:54.639  618180            BILL  Android   \n",
       "\n",
       "                 client_OS          vin    year        make      model  \\\n",
       "137755  Windows 10.0.19045  5FPYK3F7XHB  2017.0       Honda  Ridgeline   \n",
       "144352          Android 11  5FNRL6H72KB  2019.0       Honda    Odyssey   \n",
       "99272           Android 12  1N4AL3AP2DN  2013.0      Altima     Altima   \n",
       "64958           Android 10  1FM5K7F87JG  2018.0        Ford   Explorer   \n",
       "56049           Android 14  3VWW57AU8KM  2019.0  Volkswagen       Golf   \n",
       "\n",
       "                         system                                    veh_desc  \\\n",
       "137755         Anti-Lock Brakes       2017 Honda Ridgeline Anti-Lock Brakes   \n",
       "144352      Enhanced Powertrain      2019 Honda Odyssey Enhanced Powertrain   \n",
       "99272   Enhanced Powertrain CAN  2013 Nissan Altima Enhanced Powertrain CAN   \n",
       "64958   Enhanced Powertrain CAN  2018 Ford Explorer Enhanced Powertrain CAN   \n",
       "56049               01 - Engine            2019 Volkswagen Golf 01 - Engine   \n",
       "\n",
       "        vci_version  scan_method batt_voltage  \\\n",
       "137755  22.1.2418.1   quick_scan        13.86   \n",
       "144352  21.2.2323.1   quick_scan        11.72   \n",
       "99272   21.2.2323.1   quick_scan          NaN   \n",
       "64958   22.3.2439.2   quick_scan        12.19   \n",
       "56049   22.1.2418.1  manual scan        14.66   \n",
       "\n",
       "                            result_string   result state          city  \\\n",
       "137755  Successfully connected to vehicle  success    MO        JOPLIN   \n",
       "144352  Successfully connected to vehicle  success    IN  Indianapolis   \n",
       "99272   Successfully connected to vehicle  success    BC        Surrey   \n",
       "64958   Successfully connected to vehicle  success    CA   SANTA MARIA   \n",
       "56049   Successfully connected to vehicle  success    QC    CHICOUTIMI   \n",
       "\n",
       "       product_type postal_code  \n",
       "137755    COLLISION  64801-4908  \n",
       "144352    COLLISION  46240-3738  \n",
       "99272     COLLISION     V3W 6Y5  \n",
       "64958     COLLISION  93454-5126  \n",
       "56049     COLLISION     G7G 1T4  "
      ]
     },
     "execution_count": 223,
     "metadata": {},
     "output_type": "execute_result"
    }
   ],
   "source": [
    "diag_usage_df.sample(5)"
   ]
  },
  {
   "cell_type": "code",
   "execution_count": 224,
   "id": "7910eb21",
   "metadata": {},
   "outputs": [],
   "source": [
    "#we are only interested in billable customers. Drop all rows where billable_status is not 'Bill' and drop the column\n",
    "diag_usage_df = diag_usage_df[diag_usage_df['billable_status'] == 'BILL']\n",
    "diag_usage_df = diag_usage_df.drop(columns=['billable_status'])"
   ]
  },
  {
   "cell_type": "code",
   "execution_count": 225,
   "id": "aac04fb4-6ac1-4c32-aac7-565f2849fbd2",
   "metadata": {},
   "outputs": [
    {
     "name": "stdout",
     "output_type": "stream",
     "text": [
      "<class 'pandas.core.frame.DataFrame'>\n",
      "Index: 182672 entries, 0 to 190262\n",
      "Data columns (total 19 columns):\n",
      " #   Column         Non-Null Count   Dtype         \n",
      "---  ------         --------------   -----         \n",
      " 0   timestamp      182672 non-null  datetime64[ns]\n",
      " 1   siteId         182672 non-null  int64         \n",
      " 2   OsName         182672 non-null  object        \n",
      " 3   client_OS      182672 non-null  object        \n",
      " 4   vin            174142 non-null  object        \n",
      " 5   year           173593 non-null  float64       \n",
      " 6   make           173590 non-null  object        \n",
      " 7   model          173593 non-null  object        \n",
      " 8   system         182671 non-null  object        \n",
      " 9   veh_desc       182672 non-null  object        \n",
      " 10  vci_version    181799 non-null  object        \n",
      " 11  scan_method    182672 non-null  object        \n",
      " 12  batt_voltage   133995 non-null  object        \n",
      " 13  result_string  182672 non-null  object        \n",
      " 14  result         182672 non-null  object        \n",
      " 15  state          182672 non-null  object        \n",
      " 16  city           182672 non-null  object        \n",
      " 17  product_type   182672 non-null  object        \n",
      " 18  postal_code    182672 non-null  object        \n",
      "dtypes: datetime64[ns](1), float64(1), int64(1), object(16)\n",
      "memory usage: 27.9+ MB\n"
     ]
    }
   ],
   "source": [
    "diag_usage_df.info()"
   ]
  },
  {
   "cell_type": "code",
   "execution_count": 226,
   "id": "3114a220",
   "metadata": {},
   "outputs": [],
   "source": [
    "#SideId ashould be int not float\n",
    "diag_usage_df['siteId'] = diag_usage_df['siteId'].astype(int)"
   ]
  },
  {
   "cell_type": "markdown",
   "id": "ed978025",
   "metadata": {},
   "source": [
    "### Correct naming isseus with multi-word makes and models"
   ]
  },
  {
   "cell_type": "code",
   "execution_count": 227,
   "id": "64861800",
   "metadata": {},
   "outputs": [
    {
     "data": {
      "text/plain": [
       "669"
      ]
     },
     "execution_count": 227,
     "metadata": {},
     "output_type": "execute_result"
    }
   ],
   "source": [
    "#Look at number of unique makes. Note: the number of makes is much greater than the number of valid makes.\n",
    "makes_count = diag_usage_df['make'].nunique()\n",
    "makes_count"
   ]
  },
  {
   "cell_type": "code",
   "execution_count": 228,
   "id": "07ee4563",
   "metadata": {},
   "outputs": [],
   "source": [
    "#Fix the vehicle description for Makes with multiple word names\n",
    "#The vehicle description will be used to correct the make column and fill in missing values for the model and year columns. First drop rows with missing values in the vehicle description column.\n",
    "diag_usage_df = diag_usage_df.dropna(subset=['veh_desc'])\n",
    "#correct Mercedes Benz make to Mercedes-Benz\n",
    "diag_usage_df['veh_desc'] = diag_usage_df['veh_desc'].replace(r'\\bMercedes Benz\\b', 'Mercedes-Benz', regex=True)\n",
    "diag_usage_df['veh_desc'] = diag_usage_df['veh_desc'].replace(r'\\bAlfa Romeo\\b', 'Alfa-Romeo', regex=True)\n",
    "diag_usage_df['veh_desc'] = diag_usage_df['veh_desc'].replace(r'\\bLand Rover\\b', 'Land-Rover', regex=True)\n",
    "diag_usage_df['veh_desc'] = diag_usage_df['veh_desc'].replace(r'\\bAston Martin\\b', 'Aston-Martin', regex=True)\n",
    "#correct multi word models to single word models\n",
    "diag_usage_df['veh_desc'] = diag_usage_df['veh_desc'].replace(r'\\bE Class\\b', 'E-Class', regex=True)\n",
    "diag_usage_df['veh_desc'] = diag_usage_df['veh_desc'].replace(r'\\bGLE Class\\b', 'E-Class', regex=True)\n",
    "diag_usage_df['veh_desc'] = diag_usage_df['veh_desc'].replace(r'\\bRange Rover\\b', 'Range-Rover', regex=True)"
   ]
  },
  {
   "cell_type": "code",
   "execution_count": 229,
   "id": "202a8b81",
   "metadata": {},
   "outputs": [],
   "source": [
    "#Fix the model column for multiple word makes\n",
    "multi_word_makes = ['Mercedes-Benz', 'Land-Rover', 'Alfa-Romeo', 'Aston-Martin']    \n",
    "for make in multi_word_makes:\n",
    "    condition = diag_usage_df['veh_desc'].str.contains(make, na=False)\n",
    "    diag_usage_df.loc[condition, 'model'] = diag_usage_df.loc[condition, 'veh_desc'].str.split().str[2]\n",
    "    diag_usage_df.loc[condition, 'make'] = diag_usage_df.loc[condition, 'veh_desc'].str.split().str[1]\n"
   ]
  },
  {
   "cell_type": "code",
   "execution_count": 230,
   "id": "6434713c",
   "metadata": {},
   "outputs": [
    {
     "data": {
      "text/plain": [
       "173593"
      ]
     },
     "execution_count": 230,
     "metadata": {},
     "output_type": "execute_result"
    }
   ],
   "source": [
    "#There was an issue where the make was set to the model text. This has been corrected but some users have not updated their application software so the make is invalid for many records.\n",
    "#The make from the vehicle description will be used to correct the invalid makes.\n",
    "diag_usage_df['make'] = diag_usage_df['veh_desc'].str.split(' ', expand=True)[1]\n",
    "makes = diag_usage_df['make'].value_counts()\n",
    "diag_usage_df.drop(diag_usage_df[diag_usage_df['make'] == ''].index, inplace=True)\n",
    "diag_usage_df.shape[0]"
   ]
  },
  {
   "cell_type": "code",
   "execution_count": 231,
   "id": "b635d2d9",
   "metadata": {},
   "outputs": [],
   "source": [
    "#correct Blazer EV model name\n",
    "contains_blazer_and_ev = diag_usage_df['veh_desc'].str.contains('blazer ev', case=False, na=False) & diag_usage_df['model'].str.contains('ev', case=False, na=False)\n",
    "diag_usage_df.loc[contains_blazer_and_ev, 'model'] = 'Blazer EV'"
   ]
  },
  {
   "cell_type": "code",
   "execution_count": 232,
   "id": "692a7e8c",
   "metadata": {},
   "outputs": [],
   "source": [
    "#when the model is trained, the year will be made categorical. for data analysis it should be an int. \n",
    "diag_usage_df['year'] = diag_usage_df['year'].astype(int)"
   ]
  },
  {
   "cell_type": "code",
   "execution_count": 233,
   "id": "10351346",
   "metadata": {},
   "outputs": [
    {
     "data": {
      "image/png": "[encoded data removed]",
      "text/plain": [
       "<Figure size 800x400 with 1 Axes>"
      ]
     },
     "metadata": {},
     "output_type": "display_data"
    }
   ],
   "source": [
    "# Check for missing values. Note: battery voltage was only recently added to the data collection. This explains the high percentage of missing values.\n",
    "diag_usage_df.isnull().sum().plot(kind='bar', figsize=(8, 4))\n",
    "plt.title('Bar plot of missing values per feature')\n",
    "plt.show()"
   ]
  },
  {
   "cell_type": "code",
   "execution_count": 234,
   "id": "bec2715c",
   "metadata": {},
   "outputs": [
    {
     "data": {
      "text/plain": [
       "timestamp         0.000000\n",
       "siteId            0.000000\n",
       "OsName            0.000000\n",
       "client_OS         0.000000\n",
       "vin               0.023042\n",
       "year              0.000000\n",
       "make              0.000000\n",
       "model             0.000000\n",
       "system            0.000000\n",
       "veh_desc          0.000000\n",
       "vci_version       0.398058\n",
       "scan_method       0.000000\n",
       "batt_voltage     23.487122\n",
       "result_string     0.000000\n",
       "result            0.000000\n",
       "state             0.000000\n",
       "city              0.000000\n",
       "product_type      0.000000\n",
       "postal_code       0.000000\n",
       "dtype: float64"
      ]
     },
     "execution_count": 234,
     "metadata": {},
     "output_type": "execute_result"
    }
   ],
   "source": [
    "#find features with high percentage of missing values\n",
    "(diag_usage_df.isna().sum() / len(diag_usage_df)) * 100"
   ]
  },
  {
   "cell_type": "markdown",
   "id": "689fd6ab",
   "metadata": {},
   "source": [
    "### Remove records with invalid batt_voltage values and use imputation to fill missing values"
   ]
  },
  {
   "cell_type": "code",
   "execution_count": 235,
   "id": "04fce81a",
   "metadata": {},
   "outputs": [],
   "source": [
    "diag_usage_df = diag_usage_df[~diag_usage_df['batt_voltage'].str.contains(',', na=False)]\n",
    "diag_usage_df = diag_usage_df[~diag_usage_df['batt_voltage'].str.lower().str.contains('no data', case=False, na=False)]\n",
    "diag_usage_df = diag_usage_df[(diag_usage_df['batt_voltage'].astype(float) >= 0) | (diag_usage_df['batt_voltage'].isna())]"
   ]
  },
  {
   "cell_type": "code",
   "execution_count": 236,
   "id": "778147eb",
   "metadata": {},
   "outputs": [],
   "source": [
    "#convert the batt_voltage column to float\n",
    "diag_usage_df['batt_voltage'] = diag_usage_df['batt_voltage'].apply(lambda x: round(float(x), 2))"
   ]
  },
  {
   "cell_type": "code",
   "execution_count": 238,
   "id": "05f927c7",
   "metadata": {},
   "outputs": [
    {
     "name": "stdout",
     "output_type": "stream",
     "text": [
      "<class 'pandas.core.frame.DataFrame'>\n",
      "Index: 172706 entries, 0 to 190262\n",
      "Data columns (total 19 columns):\n",
      " #   Column         Non-Null Count   Dtype         \n",
      "---  ------         --------------   -----         \n",
      " 0   timestamp      172706 non-null  datetime64[ns]\n",
      " 1   siteId         172706 non-null  int32         \n",
      " 2   OsName         172706 non-null  object        \n",
      " 3   client_OS      172706 non-null  object        \n",
      " 4   vin            172666 non-null  object        \n",
      " 5   year           172706 non-null  int32         \n",
      " 6   make           172706 non-null  object        \n",
      " 7   model          172706 non-null  object        \n",
      " 8   system         172706 non-null  object        \n",
      " 9   veh_desc       172706 non-null  object        \n",
      " 10  vci_version    172117 non-null  object        \n",
      " 11  scan_method    172706 non-null  object        \n",
      " 12  batt_voltage   131934 non-null  float64       \n",
      " 13  result_string  172706 non-null  object        \n",
      " 14  result         172706 non-null  object        \n",
      " 15  state          172706 non-null  object        \n",
      " 16  city           172706 non-null  object        \n",
      " 17  product_type   172706 non-null  object        \n",
      " 18  postal_code    172706 non-null  object        \n",
      "dtypes: datetime64[ns](1), float64(1), int32(2), object(15)\n",
      "memory usage: 25.0+ MB\n"
     ]
    }
   ],
   "source": [
    "diag_usage_df.info()"
   ]
  },
  {
   "cell_type": "code",
   "execution_count": 239,
   "id": "cbe83d04",
   "metadata": {},
   "outputs": [
    {
     "name": "stdout",
     "output_type": "stream",
     "text": [
      "Median of batt_voltage: 12.16\n"
     ]
    }
   ],
   "source": [
    "#find the median of \"batt_voltage\" column excluding zero values - a zero value indicates missing data replace with np.nan\n",
    "median_batt_voltage = diag_usage_df.loc[diag_usage_df['batt_voltage'] != np.nan, 'batt_voltage'].median()\n",
    "print(\"Median of batt_voltage:\", median_batt_voltage)"
   ]
  },
  {
   "cell_type": "code",
   "execution_count": 240,
   "id": "37ff86e1",
   "metadata": {},
   "outputs": [],
   "source": [
    "# replace missing values with the median value\n",
    "diag_usage_df['batt_voltage'].fillna(median_batt_voltage, inplace=True)"
   ]
  },
  {
   "cell_type": "code",
   "execution_count": 241,
   "id": "71650178-c6dc-4664-9498-e7c8ce0716e5",
   "metadata": {},
   "outputs": [
    {
     "data": {
      "text/html": [
       "<div>\n",
       "<style scoped>\n",
       "    .dataframe tbody tr th:only-of-type {\n",
       "        vertical-align: middle;\n",
       "    }\n",
       "\n",
       "    .dataframe tbody tr th {\n",
       "        vertical-align: top;\n",
       "    }\n",
       "\n",
       "    .dataframe thead th {\n",
       "        text-align: right;\n",
       "    }\n",
       "</style>\n",
       "<table border=\"1\" class=\"dataframe\">\n",
       "  <thead>\n",
       "    <tr style=\"text-align: right;\">\n",
       "      <th></th>\n",
       "      <th>count</th>\n",
       "      <th>mean</th>\n",
       "      <th>min</th>\n",
       "      <th>25%</th>\n",
       "      <th>50%</th>\n",
       "      <th>75%</th>\n",
       "      <th>max</th>\n",
       "      <th>std</th>\n",
       "    </tr>\n",
       "  </thead>\n",
       "  <tbody>\n",
       "    <tr>\n",
       "      <th>timestamp</th>\n",
       "      <td>172706</td>\n",
       "      <td>2024-12-05 14:53:58.925091072</td>\n",
       "      <td>2024-10-01 20:24:02.463000</td>\n",
       "      <td>2024-11-01 18:30:38.929999872</td>\n",
       "      <td>2024-12-04 16:20:36.955500032</td>\n",
       "      <td>2025-01-09 19:15:20.588499968</td>\n",
       "      <td>2025-02-09 16:28:29.957000</td>\n",
       "      <td>NaN</td>\n",
       "    </tr>\n",
       "    <tr>\n",
       "      <th>siteId</th>\n",
       "      <td>172706.0</td>\n",
       "      <td>467345.33</td>\n",
       "      <td>10388.0</td>\n",
       "      <td>258509.0</td>\n",
       "      <td>482188.0</td>\n",
       "      <td>667934.0</td>\n",
       "      <td>888822.0</td>\n",
       "      <td>243345.37</td>\n",
       "    </tr>\n",
       "    <tr>\n",
       "      <th>year</th>\n",
       "      <td>172706.0</td>\n",
       "      <td>2017.38</td>\n",
       "      <td>1994.0</td>\n",
       "      <td>2015.0</td>\n",
       "      <td>2018.0</td>\n",
       "      <td>2021.0</td>\n",
       "      <td>2025.0</td>\n",
       "      <td>5.27</td>\n",
       "    </tr>\n",
       "    <tr>\n",
       "      <th>batt_voltage</th>\n",
       "      <td>172706.0</td>\n",
       "      <td>12.56</td>\n",
       "      <td>1.48</td>\n",
       "      <td>11.75</td>\n",
       "      <td>12.16</td>\n",
       "      <td>13.78</td>\n",
       "      <td>22.69</td>\n",
       "      <td>1.16</td>\n",
       "    </tr>\n",
       "  </tbody>\n",
       "</table>\n",
       "</div>"
      ],
      "text/plain": [
       "                 count                           mean  \\\n",
       "timestamp       172706  2024-12-05 14:53:58.925091072   \n",
       "siteId        172706.0                      467345.33   \n",
       "year          172706.0                        2017.38   \n",
       "batt_voltage  172706.0                          12.56   \n",
       "\n",
       "                                     min                            25%  \\\n",
       "timestamp     2024-10-01 20:24:02.463000  2024-11-01 18:30:38.929999872   \n",
       "siteId                           10388.0                       258509.0   \n",
       "year                              1994.0                         2015.0   \n",
       "batt_voltage                        1.48                          11.75   \n",
       "\n",
       "                                        50%                            75%  \\\n",
       "timestamp     2024-12-04 16:20:36.955500032  2025-01-09 19:15:20.588499968   \n",
       "siteId                             482188.0                       667934.0   \n",
       "year                                 2018.0                         2021.0   \n",
       "batt_voltage                          12.16                          13.78   \n",
       "\n",
       "                                     max        std  \n",
       "timestamp     2025-02-09 16:28:29.957000        NaN  \n",
       "siteId                          888822.0  243345.37  \n",
       "year                              2025.0       5.27  \n",
       "batt_voltage                       22.69       1.16  "
      ]
     },
     "execution_count": 241,
     "metadata": {},
     "output_type": "execute_result"
    }
   ],
   "source": [
    "diag_usage_df.describe().round(2).T"
   ]
  },
  {
   "cell_type": "code",
   "execution_count": 242,
   "id": "c2afd4c2",
   "metadata": {},
   "outputs": [
    {
     "name": "stdout",
     "output_type": "stream",
     "text": [
      "Number of unique systems: 894\n"
     ]
    }
   ],
   "source": [
    "systems = diag_usage_df['system'].unique()\n",
    "print(f\"Number of unique systems: {len(systems)}\")"
   ]
  },
  {
   "cell_type": "markdown",
   "id": "5417a484",
   "metadata": {},
   "source": [
    "### There are almost 900 unique systems in the dataset. \n",
    "map OEM specific system names to less broad system categories. "
   ]
  },
  {
   "cell_type": "code",
   "execution_count": 243,
   "id": "005a6edc",
   "metadata": {},
   "outputs": [],
   "source": [
    "system_category_mapping = {\n",
    "    'Enhanced Powertrain': [\n",
    "        'enhanced powertrain', 'digital motor', 'dme', 'powertrain', 'engine control', 'engine', 'digital diesel', 'drivetrain', 'hybrid control', 'ima motor system'\n",
    "    ],\t\n",
    "\t'Fuel Pump': [\n",
    "        'fuel pump'\n",
    "    ],\n",
    "\t'Drive Motor Control System': [\n",
    "        'motor generator', 'drive motor control module', 'traction energy', 'drive motor', 'motor control', 'drive motor control', 'traction electric machine electronics'\n",
    "    ],    \n",
    "    'Telematics': [\n",
    "        'telematic', 'wireless'\n",
    "    ],  \n",
    "    'Airbag Control System': [\n",
    "        'supplemental inflatable restraint', 'supplemental restraint', 'airbag control module', 'srs-airbag', 'srs can',\n",
    "        'sir', 'airbag', 'inflatable restraint', 'restraint system', 'srs', 'airbag module', 'active safety', 'pre collision', 'precollision'\n",
    "    ],\n",
    "\t'ADAS': [\n",
    "        'radar', 'adas', 'driver assist', 'blind spot', 'adaptive cruise', 'rear camera', 'front camera', 'object detection', 'object sensor', 'cruise control', 'lane camera', 'frontview camera', 'sonar', 'acoustic', 'pedestrian protection',\n",
    "        'lane change', 'lane departure', 'side obstacle', 'side optical detection', 'collision avoidance assist', 'emergency braking system', 'reverse automatic braking', 'camera module', 'lane change', 'parktronics', 'camera system'\n",
    "    ],\n",
    "\t'Infotainment System': [\n",
    "        'instrument cluster', 'ipc', 'instrument control', 'instrument panel', 'sync', 'information control', 'information display', 'information center', 'information module', 'head unit', 'headunit', 'hands free'\n",
    "    ],\n",
    "\t'Power Steering System' : [\n",
    "        'power steering', 'eps', 'steering assist', 'steering angle', 'steering column', 'sas control', 'steering wheel'\n",
    "    ],\n",
    "    'Transmission Control System': [\n",
    "        'transmission control', 'tcm', 'transmission', 'cvt', 'transfer case', 'differential', 'transaxle', 'transmission control module', 'final drive', 'gear shift', 'e-shifter', '4x4', 'four wheel', '4wd', '4wal', 'gear select', 'all-wheel'\n",
    "    ],    \n",
    "    'Body Control System': [\n",
    "        'body control', 'bcm', 'door', 'main body', 'seat memory', 'seat module', 'body domain', 'body basic', 'central elect', 'cabin compartment', 'chime alarm', 'car access', 'keyless entry', 'keyless start', 'keyless access', 'keyless ignition', 'keyless vehicle', 'keyless', 'sliding roof'\n",
    "    ],    \n",
    "    'Chassis Control System': [\n",
    "        'chassis control module', 'chassis control', 'suspension', 'tailgate', 'liftgate', 'tail gate', 'lift gate'\n",
    "    ],    \n",
    "    'HVAC Control System': [\n",
    "        'hvac control module', 'hvac', 'air conditioning', 'climate control', 'ccm', 'heater', 'climate', 'heating and ac'\n",
    "    ],\n",
    "    'Fuel System': [\n",
    "        'fuel pump control', 'fuel system', 'fuel control'\n",
    "    ],\n",
    "    'Gateway': [\n",
    "        'gateway', 'vehicle communication interface', 'vehicle system interface'\n",
    "    ],\n",
    "    'Crash Safety System': [\n",
    "        'safety belt', 'crash safety', 'crash', 'restraint', 'tensioning', 'tensioner'\n",
    "    ],\n",
    "\t'Park Assist': [\n",
    "        'park assist', 'parking', 'park aid', 'parktronics', 'parktronic system'\n",
    "    ],\n",
    "\t'TPMS': [\n",
    "        'tire pressure', 'tpms', 'tpws', 'tyre pressure'\n",
    "    ],\n",
    "\t'Theft Deterrent': [\n",
    "        'theft', 'smart key', 'immobilizer', 'security', 'passlock'\n",
    "    ],\n",
    "\t'Occupant Sensing System': [\n",
    "        'occ', 'occupant', 'ocs', 'seat weight sensor', 'passenger presence', 'ppm', 'weight sensing system', 'weight control'\n",
    "    ],\n",
    "\t'Accessory Power System': [\n",
    "        'dc dc converter', 'ddw', 'accessory power', 'apm'\n",
    "    ],\n",
    "\t'Battery Management System': [\n",
    "        'battery energy', 'battery control', 'becm', 'battery system', 'hv batt', 'battery monitoring', 'battery pack control module'\n",
    "    ],\n",
    "\t'Head Lamp Control System': [\n",
    "        'head lamp', 'headlight', 'headlamp'\n",
    "    ],\n",
    "    'Radio Control System': [\n",
    "        'radio', 'audio', 'entertainment', 'rcm', 'amplifier', 'sound system'\n",
    "    ],\n",
    "    'General Electronics System': [\n",
    "        'general electronics', 'gem', 'electrical machine'\n",
    "    ],\n",
    "    'Braking System': [\n",
    "        'anti-lock brake', 'abs', 'tcs', 'brake control', 'brake', 'dynamic stablity', 'antilock brakes', 'brake system', 'esc', 'brake epb', 'stability', 'vehicle dynamics', 'esp', 'asc'\n",
    "    ]\n",
    "}\n"
   ]
  },
  {
   "cell_type": "code",
   "execution_count": 244,
   "id": "ceb58267",
   "metadata": {},
   "outputs": [],
   "source": [
    "def map_system_to_category(system_name):\n",
    "    # Iterate over the system category mapping dictionary and return the common system name if found\n",
    "    for key, values in system_category_mapping.items():\n",
    "        if any(value in system_name.lower() for value in values):\n",
    "            return key\n",
    "    return 'other'  # If no mapping is found, return the original name"
   ]
  },
  {
   "cell_type": "code",
   "execution_count": 245,
   "id": "2ad797b3-da1b-4cb5-a585-fc4cccc3cc38",
   "metadata": {},
   "outputs": [
    {
     "data": {
      "text/html": [
       "<div>\n",
       "<style scoped>\n",
       "    .dataframe tbody tr th:only-of-type {\n",
       "        vertical-align: middle;\n",
       "    }\n",
       "\n",
       "    .dataframe tbody tr th {\n",
       "        vertical-align: top;\n",
       "    }\n",
       "\n",
       "    .dataframe thead th {\n",
       "        text-align: right;\n",
       "    }\n",
       "</style>\n",
       "<table border=\"1\" class=\"dataframe\">\n",
       "  <thead>\n",
       "    <tr style=\"text-align: right;\">\n",
       "      <th></th>\n",
       "      <th>timestamp</th>\n",
       "      <th>siteId</th>\n",
       "      <th>OsName</th>\n",
       "      <th>client_OS</th>\n",
       "      <th>vin</th>\n",
       "      <th>year</th>\n",
       "      <th>make</th>\n",
       "      <th>model</th>\n",
       "      <th>system</th>\n",
       "      <th>veh_desc</th>\n",
       "      <th>vci_version</th>\n",
       "      <th>scan_method</th>\n",
       "      <th>batt_voltage</th>\n",
       "      <th>result_string</th>\n",
       "      <th>result</th>\n",
       "      <th>state</th>\n",
       "      <th>city</th>\n",
       "      <th>product_type</th>\n",
       "      <th>postal_code</th>\n",
       "      <th>system_category</th>\n",
       "    </tr>\n",
       "  </thead>\n",
       "  <tbody>\n",
       "    <tr>\n",
       "      <th>9710</th>\n",
       "      <td>2024-12-18 18:32:55.539</td>\n",
       "      <td>269477</td>\n",
       "      <td>iPadOS</td>\n",
       "      <td>iPadOS 17.6.1</td>\n",
       "      <td>1FT8W3DT4ME</td>\n",
       "      <td>2021</td>\n",
       "      <td>Ford</td>\n",
       "      <td>PowerStroke</td>\n",
       "      <td>Enhanced Powertrain CAN</td>\n",
       "      <td>2021 Ford PowerStroke 6.7L Enhanced Powertrain...</td>\n",
       "      <td>22.3.2439.2</td>\n",
       "      <td>quick_scan</td>\n",
       "      <td>12.16</td>\n",
       "      <td>Successfully connected to vehicle</td>\n",
       "      <td>success</td>\n",
       "      <td>IN</td>\n",
       "      <td>Carmel</td>\n",
       "      <td>COLLISION</td>\n",
       "      <td>46032-1313</td>\n",
       "      <td>Enhanced Powertrain</td>\n",
       "    </tr>\n",
       "    <tr>\n",
       "      <th>106130</th>\n",
       "      <td>2024-10-02 18:28:06.910</td>\n",
       "      <td>100613</td>\n",
       "      <td>Android</td>\n",
       "      <td>Android 11</td>\n",
       "      <td>4T1BF1FK3CU</td>\n",
       "      <td>2012</td>\n",
       "      <td>Toyota</td>\n",
       "      <td>Camry</td>\n",
       "      <td>Enhanced Powertrain CAN</td>\n",
       "      <td>2012 Toyota Camry Enhanced Powertrain CAN</td>\n",
       "      <td>22.1.2418.1</td>\n",
       "      <td>quick_scan</td>\n",
       "      <td>12.16</td>\n",
       "      <td>Successfully connected to vehicle</td>\n",
       "      <td>success</td>\n",
       "      <td>SC</td>\n",
       "      <td>GREENWOOD</td>\n",
       "      <td>COLLISION</td>\n",
       "      <td>29649-9013</td>\n",
       "      <td>Enhanced Powertrain</td>\n",
       "    </tr>\n",
       "    <tr>\n",
       "      <th>143336</th>\n",
       "      <td>2025-01-29 23:22:00.643</td>\n",
       "      <td>353692</td>\n",
       "      <td>Android</td>\n",
       "      <td>Android 12</td>\n",
       "      <td>1FT7W2BT2HE</td>\n",
       "      <td>2017</td>\n",
       "      <td>Ford</td>\n",
       "      <td>PowerStroke</td>\n",
       "      <td>Enhanced Powertrain CAN</td>\n",
       "      <td>2017 Ford PowerStroke 6.7L Enhanced Powertrain...</td>\n",
       "      <td>22.3.2439.2</td>\n",
       "      <td>manual scan</td>\n",
       "      <td>14.33</td>\n",
       "      <td>Successfully connected to vehicle</td>\n",
       "      <td>success</td>\n",
       "      <td>LA</td>\n",
       "      <td>DRY PRONG</td>\n",
       "      <td>REPAIR</td>\n",
       "      <td>71423-3983</td>\n",
       "      <td>Enhanced Powertrain</td>\n",
       "    </tr>\n",
       "    <tr>\n",
       "      <th>16653</th>\n",
       "      <td>2024-12-18 15:36:51.879</td>\n",
       "      <td>510965</td>\n",
       "      <td>Android</td>\n",
       "      <td>Android 10</td>\n",
       "      <td>1C4RJKET3P8</td>\n",
       "      <td>2023</td>\n",
       "      <td>Jeep</td>\n",
       "      <td>Grand</td>\n",
       "      <td>Enhanced Powertrain</td>\n",
       "      <td>2023 Jeep Grand Cherokee L Enhanced Powertrain</td>\n",
       "      <td>22.3.2439.2</td>\n",
       "      <td>manual scan</td>\n",
       "      <td>11.43</td>\n",
       "      <td>&lt;div&gt;Communications could not be established w...</td>\n",
       "      <td>failed</td>\n",
       "      <td>ON</td>\n",
       "      <td>OTTAWA</td>\n",
       "      <td>COLLISION</td>\n",
       "      <td>K2J 6H8</td>\n",
       "      <td>Enhanced Powertrain</td>\n",
       "    </tr>\n",
       "    <tr>\n",
       "      <th>115681</th>\n",
       "      <td>2024-10-10 16:41:38.477</td>\n",
       "      <td>183826</td>\n",
       "      <td>Android</td>\n",
       "      <td>Android 8.1.0</td>\n",
       "      <td>1GNKVGKD2GJ</td>\n",
       "      <td>2016</td>\n",
       "      <td>Chevrolet</td>\n",
       "      <td>Traverse</td>\n",
       "      <td>Enhanced Powertrain</td>\n",
       "      <td>2016 Chevrolet Traverse Enhanced Powertrain</td>\n",
       "      <td>22.1.2418.1</td>\n",
       "      <td>quick_scan</td>\n",
       "      <td>12.16</td>\n",
       "      <td>Successfully connected to vehicle</td>\n",
       "      <td>success</td>\n",
       "      <td>MN</td>\n",
       "      <td>FOLEY</td>\n",
       "      <td>COLLISION</td>\n",
       "      <td>56329-4609</td>\n",
       "      <td>Enhanced Powertrain</td>\n",
       "    </tr>\n",
       "  </tbody>\n",
       "</table>\n",
       "</div>"
      ],
      "text/plain": [
       "                     timestamp  siteId   OsName      client_OS          vin  \\\n",
       "9710   2024-12-18 18:32:55.539  269477   iPadOS  iPadOS 17.6.1  1FT8W3DT4ME   \n",
       "106130 2024-10-02 18:28:06.910  100613  Android     Android 11  4T1BF1FK3CU   \n",
       "143336 2025-01-29 23:22:00.643  353692  Android     Android 12  1FT7W2BT2HE   \n",
       "16653  2024-12-18 15:36:51.879  510965  Android     Android 10  1C4RJKET3P8   \n",
       "115681 2024-10-10 16:41:38.477  183826  Android  Android 8.1.0  1GNKVGKD2GJ   \n",
       "\n",
       "        year       make        model                   system  \\\n",
       "9710    2021       Ford  PowerStroke  Enhanced Powertrain CAN   \n",
       "106130  2012     Toyota        Camry  Enhanced Powertrain CAN   \n",
       "143336  2017       Ford  PowerStroke  Enhanced Powertrain CAN   \n",
       "16653   2023       Jeep        Grand      Enhanced Powertrain   \n",
       "115681  2016  Chevrolet     Traverse      Enhanced Powertrain   \n",
       "\n",
       "                                                 veh_desc  vci_version  \\\n",
       "9710    2021 Ford PowerStroke 6.7L Enhanced Powertrain...  22.3.2439.2   \n",
       "106130          2012 Toyota Camry Enhanced Powertrain CAN  22.1.2418.1   \n",
       "143336  2017 Ford PowerStroke 6.7L Enhanced Powertrain...  22.3.2439.2   \n",
       "16653      2023 Jeep Grand Cherokee L Enhanced Powertrain  22.3.2439.2   \n",
       "115681        2016 Chevrolet Traverse Enhanced Powertrain  22.1.2418.1   \n",
       "\n",
       "        scan_method  batt_voltage  \\\n",
       "9710     quick_scan         12.16   \n",
       "106130   quick_scan         12.16   \n",
       "143336  manual scan         14.33   \n",
       "16653   manual scan         11.43   \n",
       "115681   quick_scan         12.16   \n",
       "\n",
       "                                            result_string   result state  \\\n",
       "9710                    Successfully connected to vehicle  success    IN   \n",
       "106130                  Successfully connected to vehicle  success    SC   \n",
       "143336                  Successfully connected to vehicle  success    LA   \n",
       "16653   <div>Communications could not be established w...   failed    ON   \n",
       "115681                  Successfully connected to vehicle  success    MN   \n",
       "\n",
       "             city product_type postal_code      system_category  \n",
       "9710       Carmel    COLLISION  46032-1313  Enhanced Powertrain  \n",
       "106130  GREENWOOD    COLLISION  29649-9013  Enhanced Powertrain  \n",
       "143336  DRY PRONG       REPAIR  71423-3983  Enhanced Powertrain  \n",
       "16653      OTTAWA    COLLISION     K2J 6H8  Enhanced Powertrain  \n",
       "115681      FOLEY    COLLISION  56329-4609  Enhanced Powertrain  "
      ]
     },
     "execution_count": 245,
     "metadata": {},
     "output_type": "execute_result"
    }
   ],
   "source": [
    "diag_usage_df['system_category'] = diag_usage_df['system'].apply(map_system_to_category)\n",
    "diag_usage_df.sample(5)"
   ]
  },
  {
   "cell_type": "code",
   "execution_count": 246,
   "id": "b5dad32a",
   "metadata": {},
   "outputs": [
    {
     "data": {
      "text/plain": [
       "system_category\n",
       "Enhanced Powertrain            95.477864\n",
       "Braking System                  1.394277\n",
       "Airbag Control System           1.030074\n",
       "Transmission Control System     0.412840\n",
       "Body Control System             0.270402\n",
       "Crash Safety System             0.235082\n",
       "Occupant Sensing System         0.198603\n",
       "TPMS                            0.180075\n",
       "ADAS                            0.140702\n",
       "other                           0.125647\n",
       "Power Steering System           0.074114\n",
       "HVAC Control System             0.067166\n",
       "Infotainment System             0.057323\n",
       "Drive Motor Control System      0.052112\n",
       "Fuel Pump                       0.046901\n",
       "Radio Control System            0.040531\n",
       "Park Assist                     0.033004\n",
       "Chassis Control System          0.031846\n",
       "General Electronics System      0.029530\n",
       "Theft Deterrent                 0.026635\n",
       "Gateway                         0.023161\n",
       "Battery Management System       0.019108\n",
       "Head Lamp Control System        0.013317\n",
       "Telematics                      0.010422\n",
       "Fuel System                     0.006948\n",
       "Accessory Power System          0.002316\n",
       "Name: count, dtype: float64"
      ]
     },
     "execution_count": 246,
     "metadata": {},
     "output_type": "execute_result"
    }
   ],
   "source": [
    "#Determine the percentage of each system category - vast majority of systems are in the 'Enhanced Powertrain' category\n",
    "system_counts_df = diag_usage_df['system_category']\n",
    "total_records = system_counts_df.shape[0]\n",
    "system_counts = system_counts_df.value_counts()\n",
    "system_counts_percent = system_counts / total_records * 100\n",
    "system_counts_percent"
   ]
  },
  {
   "cell_type": "code",
   "execution_count": 247,
   "id": "07152a0f",
   "metadata": {},
   "outputs": [
    {
     "data": {
      "text/plain": [
       "system_category\n",
       "Braking System                 30.832266\n",
       "Airbag Control System          22.778489\n",
       "Transmission Control System     9.129321\n",
       "Body Control System             5.979513\n",
       "Crash Safety System             5.198464\n",
       "Occupant Sensing System         4.391805\n",
       "TPMS                            3.982074\n",
       "ADAS                            3.111396\n",
       "other                           2.778489\n",
       "Power Steering System           1.638924\n",
       "HVAC Control System             1.485275\n",
       "Infotainment System             1.267606\n",
       "Drive Motor Control System      1.152369\n",
       "Fuel Pump                       1.037132\n",
       "Radio Control System            0.896287\n",
       "Park Assist                     0.729834\n",
       "Chassis Control System          0.704225\n",
       "General Electronics System      0.653009\n",
       "Theft Deterrent                 0.588988\n",
       "Gateway                         0.512164\n",
       "Battery Management System       0.422535\n",
       "Head Lamp Control System        0.294494\n",
       "Telematics                      0.230474\n",
       "Fuel System                     0.153649\n",
       "Accessory Power System          0.051216\n",
       "Name: count, dtype: float64"
      ]
     },
     "execution_count": 247,
     "metadata": {},
     "output_type": "execute_result"
    }
   ],
   "source": [
    "#Determine the percentage of each system category excluding the enhanced powertrain systems\n",
    "system_counts_df = diag_usage_df[diag_usage_df['system_category'] != 'Enhanced Powertrain']['system_category']\n",
    "total_records = system_counts_df.shape[0]\n",
    "system_counts = system_counts_df.value_counts()\n",
    "system_counts_percent = system_counts / total_records * 100\n",
    "system_counts_percent\n",
    "#total_records"
   ]
  },
  {
   "cell_type": "code",
   "execution_count": 248,
   "id": "7cc7bd85",
   "metadata": {},
   "outputs": [],
   "source": [
    "#Change result from success/failed to 1/0\n",
    "diag_usage_df['result'] = diag_usage_df['result'].map({'success': 1, 'failed': 0})\n",
    "diag_usage_df['year'] = diag_usage_df['year'].astype(str)\n",
    "#remove vci_version with text demo\n",
    "diag_usage_df = diag_usage_df[~diag_usage_df['vci_version'].str.lower().str.contains('demo', na=False)]\n",
    "diag_usage_df = diag_usage_df[~diag_usage_df['vci_version'].str.lower().str.contains('dev', na=False)]"
   ]
  },
  {
   "cell_type": "code",
   "execution_count": 249,
   "id": "ebc5e6b5",
   "metadata": {},
   "outputs": [],
   "source": [
    "#drop result_string column\n",
    "diag_usage_df = diag_usage_df.drop(columns=['result_string'])"
   ]
  },
  {
   "cell_type": "code",
   "execution_count": 250,
   "id": "62845831",
   "metadata": {},
   "outputs": [],
   "source": [
    "#remove years 1994-1996 as they are not offcially supported by the tool\n",
    "diag_usage_df = diag_usage_df[~diag_usage_df['year'].isin(['1994', '1995', '1996'])]"
   ]
  },
  {
   "cell_type": "code",
   "execution_count": 251,
   "id": "3a1e0a64",
   "metadata": {},
   "outputs": [
    {
     "name": "stdout",
     "output_type": "stream",
     "text": [
      "<class 'pandas.core.frame.DataFrame'>\n",
      "Index: 171527 entries, 0 to 190262\n",
      "Data columns (total 19 columns):\n",
      " #   Column           Non-Null Count   Dtype         \n",
      "---  ------           --------------   -----         \n",
      " 0   timestamp        171527 non-null  datetime64[ns]\n",
      " 1   siteId           171527 non-null  int32         \n",
      " 2   OsName           171527 non-null  object        \n",
      " 3   client_OS        171527 non-null  object        \n",
      " 4   vin              171490 non-null  object        \n",
      " 5   year             171527 non-null  object        \n",
      " 6   make             171527 non-null  object        \n",
      " 7   model            171527 non-null  object        \n",
      " 8   system           171527 non-null  object        \n",
      " 9   veh_desc         171527 non-null  object        \n",
      " 10  vci_version      170946 non-null  object        \n",
      " 11  scan_method      171527 non-null  object        \n",
      " 12  batt_voltage     171527 non-null  float64       \n",
      " 13  result           171527 non-null  int64         \n",
      " 14  state            171527 non-null  object        \n",
      " 15  city             171527 non-null  object        \n",
      " 16  product_type     171527 non-null  object        \n",
      " 17  postal_code      171527 non-null  object        \n",
      " 18  system_category  171527 non-null  object        \n",
      "dtypes: datetime64[ns](1), float64(1), int32(1), int64(1), object(15)\n",
      "memory usage: 25.5+ MB\n"
     ]
    }
   ],
   "source": [
    "diag_usage_df.info()"
   ]
  },
  {
   "cell_type": "markdown",
   "id": "e2480d29",
   "metadata": {},
   "source": [
    "### Fill missing location information with 'unknown'"
   ]
  },
  {
   "cell_type": "code",
   "execution_count": 252,
   "id": "475f94fa",
   "metadata": {},
   "outputs": [
    {
     "name": "stdout",
     "output_type": "stream",
     "text": [
      "Percentage of unknown values for state: 9.273758650241653 num unknown: 15907\n",
      "Percentage of unknown values for city: 9.273758650241653 num unknown: 15907\n",
      "Percentage of unknown values for product_type: 9.273758650241653 num unknown: 15907\n",
      "Percentage of unknown values for postal_code: 9.273758650241653 num unknown: 15907\n"
     ]
    }
   ],
   "source": [
    "attributes = ['state', 'city', 'product_type', 'postal_code']\n",
    "for attribute in attributes:\n",
    "    num_unknown = diag_usage_df[attribute].str.lower().str.contains('unknown', na=False).sum()\n",
    "    unknown_percent = num_unknown / diag_usage_df.shape[0] * 100\n",
    "    print(f'Percentage of unknown values for {attribute}: {unknown_percent} num unknown: {num_unknown}')    "
   ]
  },
  {
   "cell_type": "code",
   "execution_count": 253,
   "id": "97993e02",
   "metadata": {},
   "outputs": [],
   "source": [
    "#uncomment out to save cleaned data to excel file\n",
    "#diag_usage_df.to_excel('DiagUsage_Cleaned.xlsx', index=False)"
   ]
  },
  {
   "cell_type": "markdown",
   "id": "b6b89c6e",
   "metadata": {},
   "source": [
    "**Data Cleaning Summary:**\n",
    "<div style=\"margin-left: 20px;\">\n",
    "  <ul>\n",
    "    <li>Un-needed features such as 'billable status' were removed</li>\n",
    "    <li>Imputation was used to fill missing battery voltage entries. The mean was used as a replacement. Invalid battery voltage entries were remove</li>\n",
    "    <li>Multi-word vehicle make entries were combined to a single word (Mercedes Benz -> Mercedes-Benz)</li>\n",
    "    <li>Invalid vehicle make entries were removed</li>\n",
    "    <li>891 unique vehicle systems accross all makes were normalized into standard system category naming</li>\n",
    "    <li>Vehicle scans using products 'demo mode' were removed</li>\n",
    "  </ul>\n",
    "</div> "
   ]
  },
  {
   "cell_type": "markdown",
   "id": "c86cbf6b",
   "metadata": {},
   "source": [
    "**Data Dictionary:**:\n",
    "<div style=\"margin-left: 20px;\">\n",
    "  <ul>\n",
    "    <li><strong>siteId</strong>&nbsp;&nbsp;Anonymized customer Id for shop performing the scan</li>\n",
    "    <li><strong>vin</strong>&nbsp;&nbsp;In addition to make, model, and year, the VIN encodes details on body style, engine type, and features to distinguish trim levels</li>\n",
    "    <li><strong>year</strong>&nbsp;&nbsp;Production year of the vehicle for the scan tool connection attempt</li>\n",
    "    <li><strong>make</strong>&nbsp;&nbsp;Manufacturer or brand of vehicle for the scan tool connection attempt</li>\n",
    "    <li><strong>model</strong>&nbsp;&nbsp;Product line or design of vehicle for the scan tool connection attempt</li>\n",
    "    <li><strong>system_category</strong>&nbsp;&nbsp;Represents the ECU (Electronic Control Unit), which is the endpoint of communications in the vehicle</li>\n",
    "    <li><strong>veh_desc</strong>&nbsp;&nbsp;Concatenation of vehicles make, model and year. Used in visualizations</li>\n",
    "    <li><strong>vci_version</strong>&nbsp;&nbsp;Software version level of the diagnostics scan tool at time of the scan</li>\n",
    "    <li><strong>scan_method</strong>&nbsp;&nbsp;Connection method used for connection attempt (manual_scan or quick_scan)</li>\n",
    "    <li><strong>batt_voltage</strong>&nbsp;&nbsp;Low battery voltage may be a cause of communications failures</li>\n",
    "    <li><strong>product_type</strong>&nbsp;&nbsp;Customer type Repair or Collision</li>\n",
    "    <li><strong>result</strong>&nbsp;&nbsp;0 - comm attempt failed. 1 - comm attempt was successful</li>\n",
    "  </ul>\n",
    "</div> "
   ]
  }
 ],
 "metadata": {
  "kernelspec": {
   "display_name": "base",
   "language": "python",
   "name": "python3"
  },
  "language_info": {
   "codemirror_mode": {
    "name": "ipython",
    "version": 3
   },
   "file_extension": ".py",
   "mimetype": "text/x-python",
   "name": "python",
   "nbconvert_exporter": "python",
   "pygments_lexer": "ipython3",
   "version": "3.11.7"
  }
 },
 "nbformat": 4,
 "nbformat_minor": 5
}
