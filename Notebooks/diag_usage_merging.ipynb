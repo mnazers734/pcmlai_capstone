{
 "cells": [
  {
   "cell_type": "markdown",
   "id": "ec526758",
   "metadata": {},
   "source": [
    "#### Notebook to merge datasets from multiple Excel files, remove the duplicates and incorporate location data. Customer data is anonymized using the customer information Excel file."
   ]
  },
  {
   "cell_type": "markdown",
   "id": "5406042d",
   "metadata": {},
   "source": [
    "Event data is available for the past 90 days. The analysis combines two Excel files, each containing 90 days of vehicle connectivity data collected a month apart. This Jupyter notebook merges these files, removes duplicates, and incorporates anonymized location data from a third file. Customer IDs are replaced with random IDs, with the mapping stored separately. \n",
    "\n",
    "<div style=\"display: flex; justify-content: space-around; margin-bottom: 25px;\"> <img src=\"../images/Merging datasets.png\" alt=\"Merging datasets from multiple dates and including location data\" height=\"300\" width=\"auto\" style=\"margin-right: 20px;\"> </div><br/>"
   ]
  },
  {
   "cell_type": "code",
   "execution_count": null,
   "id": "4ce61c4c",
   "metadata": {},
   "outputs": [],
   "source": [
    "import pandas as pd\n",
    "import numpy as np"
   ]
  },
  {
   "cell_type": "markdown",
   "id": "52a9d808",
   "metadata": {},
   "source": [
    "**Note:** the files DiagUsagePowerBI_jan01.xlsx and DiagUsagePowerBI_feb09.xlsx spreadsheets are not included in the Capstone repo because they contain customer information"
   ]
  },
  {
   "cell_type": "code",
   "execution_count": null,
   "id": "cf724604",
   "metadata": {},
   "outputs": [],
   "source": [
    "#merge excel files from multiple dates and remove the duplicates - due to overlapping dates\n",
    "df1 = pd.read_excel('../Data/DiagUsagePowerBI_jan01.xlsx', sheet_name='connect_system')\n",
    "df2 = pd.read_excel('../Data/DiagUsagePowerBI_feb09.xlsx', sheet_name='connect_system')"
   ]
  },
  {
   "cell_type": "code",
   "execution_count": 85,
   "id": "b324f815-d72b-4b76-80aa-2cc3db31c01f",
   "metadata": {},
   "outputs": [],
   "source": [
    "diag_usage_df = pd.concat([df1, df2])"
   ]
  },
  {
   "cell_type": "code",
   "execution_count": 86,
   "id": "54e4a5f7",
   "metadata": {},
   "outputs": [
    {
     "name": "stdout",
     "output_type": "stream",
     "text": [
      "Number of duplicates: 79823\n"
     ]
    }
   ],
   "source": [
    "num_duplicates = diag_usage_df.duplicated().sum()\n",
    "print(f'Number of duplicates: {num_duplicates}')"
   ]
  },
  {
   "cell_type": "code",
   "execution_count": 90,
   "id": "7fd6cf36-121e-4d41-8565-0f1f944046c5",
   "metadata": {},
   "outputs": [],
   "source": [
    "diag_usage_df = diag_usage_df.drop_duplicates()\n",
    "diag_usage_df['siteId'] = diag_usage_df['siteId'].fillna(0).astype(int)"
   ]
  },
  {
   "cell_type": "code",
   "execution_count": 91,
   "id": "43cbab2b",
   "metadata": {},
   "outputs": [],
   "source": [
    "#remove rows with siteId = 0\n",
    "diag_usage_df = diag_usage_df[diag_usage_df['siteId'] != 0]"
   ]
  },
  {
   "cell_type": "code",
   "execution_count": 92,
   "id": "269eddb0",
   "metadata": {},
   "outputs": [
    {
     "name": "stdout",
     "output_type": "stream",
     "text": [
      "<class 'pandas.core.frame.DataFrame'>\n",
      "Index: 190263 entries, 0 to 133650\n",
      "Data columns (total 17 columns):\n",
      " #   Column           Non-Null Count   Dtype         \n",
      "---  ------           --------------   -----         \n",
      " 0   timestamp        190263 non-null  datetime64[ns]\n",
      " 1   siteId           190263 non-null  int32         \n",
      " 2   shop_info        190263 non-null  object        \n",
      " 3   billable_status  185746 non-null  object        \n",
      " 4   OsName           190263 non-null  object        \n",
      " 5   client_OS        190263 non-null  object        \n",
      " 6   vin              181137 non-null  object        \n",
      " 7   year             180572 non-null  float64       \n",
      " 8   make             180569 non-null  object        \n",
      " 9   model            180572 non-null  object        \n",
      " 10  system           190262 non-null  object        \n",
      " 11  veh_desc         190263 non-null  object        \n",
      " 12  vci_version      189349 non-null  object        \n",
      " 13  scan_method      190263 non-null  object        \n",
      " 14  batt_voltage     139506 non-null  object        \n",
      " 15  result_string    190263 non-null  object        \n",
      " 16  result           190263 non-null  object        \n",
      "dtypes: datetime64[ns](1), float64(1), int32(1), object(14)\n",
      "memory usage: 25.4+ MB\n"
     ]
    }
   ],
   "source": [
    "diag_usage_df.info()"
   ]
  },
  {
   "cell_type": "code",
   "execution_count": 93,
   "id": "33606a5e",
   "metadata": {},
   "outputs": [],
   "source": [
    "#read the customer data\n",
    "df3 = pd.read_excel('../Data/Customer_Data.xlsx', sheet_name='diag_site_w_prod_type')"
   ]
  },
  {
   "cell_type": "code",
   "execution_count": 94,
   "id": "9b683f57",
   "metadata": {},
   "outputs": [],
   "source": [
    "mapping_dict = dict(zip(df3['SITE_ID'], df3['SITE_ID_ANON']))"
   ]
  },
  {
   "cell_type": "code",
   "execution_count": null,
   "id": "7c7c6ad6",
   "metadata": {},
   "outputs": [],
   "source": [
    "#anonymize the siteId from customer data\n",
    "diag_usage_df['siteId'] = diag_usage_df['siteId'].map(mapping_dict)"
   ]
  },
  {
   "cell_type": "code",
   "execution_count": 98,
   "id": "3f7ded3a",
   "metadata": {},
   "outputs": [
    {
     "data": {
      "text/html": [
       "<div>\n",
       "<style scoped>\n",
       "    .dataframe tbody tr th:only-of-type {\n",
       "        vertical-align: middle;\n",
       "    }\n",
       "\n",
       "    .dataframe tbody tr th {\n",
       "        vertical-align: top;\n",
       "    }\n",
       "\n",
       "    .dataframe thead th {\n",
       "        text-align: right;\n",
       "    }\n",
       "</style>\n",
       "<table border=\"1\" class=\"dataframe\">\n",
       "  <thead>\n",
       "    <tr style=\"text-align: right;\">\n",
       "      <th></th>\n",
       "      <th>timestamp</th>\n",
       "      <th>siteId</th>\n",
       "      <th>shop_info</th>\n",
       "      <th>billable_status</th>\n",
       "      <th>OsName</th>\n",
       "      <th>client_OS</th>\n",
       "      <th>vin</th>\n",
       "      <th>year</th>\n",
       "      <th>make</th>\n",
       "      <th>model</th>\n",
       "      <th>system</th>\n",
       "      <th>veh_desc</th>\n",
       "      <th>vci_version</th>\n",
       "      <th>scan_method</th>\n",
       "      <th>batt_voltage</th>\n",
       "      <th>result_string</th>\n",
       "      <th>result</th>\n",
       "    </tr>\n",
       "  </thead>\n",
       "  <tbody>\n",
       "    <tr>\n",
       "      <th>129299</th>\n",
       "      <td>2024-10-11 00:00:09.166</td>\n",
       "      <td>706759</td>\n",
       "      <td>DESTINATION MAZDA 195230</td>\n",
       "      <td>BILL</td>\n",
       "      <td>Android</td>\n",
       "      <td>Android 14</td>\n",
       "      <td>NaN</td>\n",
       "      <td>NaN</td>\n",
       "      <td>NaN</td>\n",
       "      <td>NaN</td>\n",
       "      <td>Dynamic Stability Control (DSC_10)</td>\n",
       "      <td>Dynamic Stability Control (DSC_10)</td>\n",
       "      <td>21.3.2337.1</td>\n",
       "      <td>manual scan</td>\n",
       "      <td>NaN</td>\n",
       "      <td>Successfully connected to vehicle</td>\n",
       "      <td>success</td>\n",
       "    </tr>\n",
       "    <tr>\n",
       "      <th>124128</th>\n",
       "      <td>2024-10-10 17:13:33.097</td>\n",
       "      <td>496026</td>\n",
       "      <td>PLACERVILLE BODY SHOP 178100</td>\n",
       "      <td>BILL</td>\n",
       "      <td>Android</td>\n",
       "      <td>Android 14</td>\n",
       "      <td>1GT424E87FF</td>\n",
       "      <td>2015.0</td>\n",
       "      <td>Sierra</td>\n",
       "      <td>Sierra</td>\n",
       "      <td>Enhanced Powertrain</td>\n",
       "      <td>2015 GMC Sierra Enhanced Powertrain</td>\n",
       "      <td>22.1.2418.1</td>\n",
       "      <td>manual scan</td>\n",
       "      <td>NaN</td>\n",
       "      <td>Successfully connected to vehicle</td>\n",
       "      <td>success</td>\n",
       "    </tr>\n",
       "    <tr>\n",
       "      <th>27969</th>\n",
       "      <td>2025-01-21 18:26:34.210</td>\n",
       "      <td>52399</td>\n",
       "      <td>CIRCUIT COLLISION 159099</td>\n",
       "      <td>BILL</td>\n",
       "      <td>Android</td>\n",
       "      <td>Android 10</td>\n",
       "      <td>2HGFB2F50DH</td>\n",
       "      <td>2013.0</td>\n",
       "      <td>Honda</td>\n",
       "      <td>Civic</td>\n",
       "      <td>Anti-Lock Brakes</td>\n",
       "      <td>2013 Honda Civic Anti-Lock Brakes</td>\n",
       "      <td>22.3.2439.2</td>\n",
       "      <td>manual scan</td>\n",
       "      <td>10.55</td>\n",
       "      <td>&lt;div&gt;Communications could not be established w...</td>\n",
       "      <td>failed</td>\n",
       "    </tr>\n",
       "    <tr>\n",
       "      <th>16826</th>\n",
       "      <td>2024-12-18 14:30:41.984</td>\n",
       "      <td>200673</td>\n",
       "      <td>Carrosserie CertiPlus 9199</td>\n",
       "      <td>BILL</td>\n",
       "      <td>Android</td>\n",
       "      <td>Android 8.1.0</td>\n",
       "      <td>2HKRW2H44LH</td>\n",
       "      <td>2020.0</td>\n",
       "      <td>Honda</td>\n",
       "      <td>CR-V</td>\n",
       "      <td>Enhanced Powertrain</td>\n",
       "      <td>2020 Honda CR-V Enhanced Powertrain</td>\n",
       "      <td>22.3.2439.2</td>\n",
       "      <td>quick_scan</td>\n",
       "      <td>10.87</td>\n",
       "      <td>Successfully connected to vehicle</td>\n",
       "      <td>success</td>\n",
       "    </tr>\n",
       "    <tr>\n",
       "      <th>32045</th>\n",
       "      <td>2025-01-22 21:47:46.458</td>\n",
       "      <td>503311</td>\n",
       "      <td>NORTHEAST COLLISION - ELMA 77786</td>\n",
       "      <td>BILL</td>\n",
       "      <td>Android</td>\n",
       "      <td>Android 14</td>\n",
       "      <td>5J6RE4H72AL</td>\n",
       "      <td>2010.0</td>\n",
       "      <td>Honda</td>\n",
       "      <td>CR-V</td>\n",
       "      <td>Enhanced Powertrain</td>\n",
       "      <td>2010 Honda CR-V Enhanced Powertrain</td>\n",
       "      <td>22.3.2439.2</td>\n",
       "      <td>quick_scan</td>\n",
       "      <td>11.69</td>\n",
       "      <td>&lt;div&gt;Communications could not be established w...</td>\n",
       "      <td>failed</td>\n",
       "    </tr>\n",
       "  </tbody>\n",
       "</table>\n",
       "</div>"
      ],
      "text/plain": [
       "                     timestamp  siteId                         shop_info  \\\n",
       "129299 2024-10-11 00:00:09.166  706759          DESTINATION MAZDA 195230   \n",
       "124128 2024-10-10 17:13:33.097  496026      PLACERVILLE BODY SHOP 178100   \n",
       "27969  2025-01-21 18:26:34.210   52399          CIRCUIT COLLISION 159099   \n",
       "16826  2024-12-18 14:30:41.984  200673        Carrosserie CertiPlus 9199   \n",
       "32045  2025-01-22 21:47:46.458  503311  NORTHEAST COLLISION - ELMA 77786   \n",
       "\n",
       "       billable_status   OsName      client_OS          vin    year    make  \\\n",
       "129299            BILL  Android     Android 14          NaN     NaN     NaN   \n",
       "124128            BILL  Android     Android 14  1GT424E87FF  2015.0  Sierra   \n",
       "27969             BILL  Android     Android 10  2HGFB2F50DH  2013.0   Honda   \n",
       "16826             BILL  Android  Android 8.1.0  2HKRW2H44LH  2020.0   Honda   \n",
       "32045             BILL  Android     Android 14  5J6RE4H72AL  2010.0   Honda   \n",
       "\n",
       "         model                              system  \\\n",
       "129299     NaN  Dynamic Stability Control (DSC_10)   \n",
       "124128  Sierra                 Enhanced Powertrain   \n",
       "27969    Civic                    Anti-Lock Brakes   \n",
       "16826     CR-V                 Enhanced Powertrain   \n",
       "32045     CR-V                 Enhanced Powertrain   \n",
       "\n",
       "                                     veh_desc  vci_version  scan_method  \\\n",
       "129299     Dynamic Stability Control (DSC_10)  21.3.2337.1  manual scan   \n",
       "124128    2015 GMC Sierra Enhanced Powertrain  22.1.2418.1  manual scan   \n",
       "27969       2013 Honda Civic Anti-Lock Brakes  22.3.2439.2  manual scan   \n",
       "16826     2020 Honda CR-V Enhanced Powertrain  22.3.2439.2   quick_scan   \n",
       "32045     2010 Honda CR-V Enhanced Powertrain  22.3.2439.2   quick_scan   \n",
       "\n",
       "       batt_voltage                                      result_string  \\\n",
       "129299          NaN                  Successfully connected to vehicle   \n",
       "124128          NaN                  Successfully connected to vehicle   \n",
       "27969         10.55  <div>Communications could not be established w...   \n",
       "16826         10.87                  Successfully connected to vehicle   \n",
       "32045         11.69  <div>Communications could not be established w...   \n",
       "\n",
       "         result  \n",
       "129299  success  \n",
       "124128  success  \n",
       "27969    failed  \n",
       "16826   success  \n",
       "32045    failed  "
      ]
     },
     "execution_count": 98,
     "metadata": {},
     "output_type": "execute_result"
    }
   ],
   "source": [
    "diag_usage_df.sample(5)"
   ]
  },
  {
   "cell_type": "code",
   "execution_count": 1,
   "id": "61be400d",
   "metadata": {},
   "outputs": [],
   "source": [
    "### copy city, state, zip code and customer type from customer data"
   ]
  },
  {
   "cell_type": "code",
   "execution_count": 99,
   "id": "31aede9a",
   "metadata": {},
   "outputs": [],
   "source": [
    "#copy city, state, zip code and customer type from customer data\n",
    "diag_usage_df['state'] = diag_usage_df['siteId'].map(dict(zip(df3['SITE_ID_ANON'], df3['STATE'])))\n",
    "diag_usage_df['city'] = diag_usage_df['siteId'].map(dict(zip(df3['SITE_ID_ANON'], df3['CITY'])))\n",
    "diag_usage_df['product_type'] = diag_usage_df['siteId'].map(dict(zip(df3['SITE_ID_ANON'], df3['MODULE_NAME'])))\n",
    "diag_usage_df['postal_code'] = diag_usage_df['siteId'].map(dict(zip(df3['SITE_ID_ANON'], df3['POSTAL_CODE'])))"
   ]
  },
  {
   "cell_type": "code",
   "execution_count": 101,
   "id": "8269f9cd",
   "metadata": {},
   "outputs": [
    {
     "name": "stdout",
     "output_type": "stream",
     "text": [
      "<class 'pandas.core.frame.DataFrame'>\n",
      "Index: 190263 entries, 0 to 133650\n",
      "Data columns (total 21 columns):\n",
      " #   Column           Non-Null Count   Dtype         \n",
      "---  ------           --------------   -----         \n",
      " 0   timestamp        190263 non-null  datetime64[ns]\n",
      " 1   siteId           190263 non-null  int64         \n",
      " 2   shop_info        190263 non-null  object        \n",
      " 3   billable_status  185746 non-null  object        \n",
      " 4   OsName           190263 non-null  object        \n",
      " 5   client_OS        190263 non-null  object        \n",
      " 6   vin              181137 non-null  object        \n",
      " 7   year             180572 non-null  float64       \n",
      " 8   make             180569 non-null  object        \n",
      " 9   model            180572 non-null  object        \n",
      " 10  system           190262 non-null  object        \n",
      " 11  veh_desc         190263 non-null  object        \n",
      " 12  vci_version      189349 non-null  object        \n",
      " 13  scan_method      190263 non-null  object        \n",
      " 14  batt_voltage     139506 non-null  object        \n",
      " 15  result_string    190263 non-null  object        \n",
      " 16  result           190263 non-null  object        \n",
      " 17  state            172235 non-null  object        \n",
      " 18  city             172235 non-null  object        \n",
      " 19  product_type     172236 non-null  object        \n",
      " 20  postal_code      172235 non-null  object        \n",
      "dtypes: datetime64[ns](1), float64(1), int64(1), object(18)\n",
      "memory usage: 31.9+ MB\n"
     ]
    }
   ],
   "source": [
    "diag_usage_df.info()"
   ]
  },
  {
   "cell_type": "code",
   "execution_count": 102,
   "id": "e924ab9d",
   "metadata": {},
   "outputs": [],
   "source": [
    "#replace missing values in city, state, product_type and postal_code with 'Unknown'\n",
    "diag_usage_df['city'] = diag_usage_df['city'].fillna('unknown')\n",
    "diag_usage_df['state'] = diag_usage_df['state'].fillna('unknown')\n",
    "diag_usage_df['product_type'] = diag_usage_df['product_type'].fillna('unknown')\n",
    "diag_usage_df['postal_code'] = diag_usage_df['postal_code'].fillna('unknown')"
   ]
  },
  {
   "cell_type": "code",
   "execution_count": 103,
   "id": "208681a3",
   "metadata": {},
   "outputs": [
    {
     "name": "stdout",
     "output_type": "stream",
     "text": [
      "<class 'pandas.core.frame.DataFrame'>\n",
      "Index: 190263 entries, 0 to 133650\n",
      "Data columns (total 21 columns):\n",
      " #   Column           Non-Null Count   Dtype         \n",
      "---  ------           --------------   -----         \n",
      " 0   timestamp        190263 non-null  datetime64[ns]\n",
      " 1   siteId           190263 non-null  int64         \n",
      " 2   shop_info        190263 non-null  object        \n",
      " 3   billable_status  185746 non-null  object        \n",
      " 4   OsName           190263 non-null  object        \n",
      " 5   client_OS        190263 non-null  object        \n",
      " 6   vin              181137 non-null  object        \n",
      " 7   year             180572 non-null  float64       \n",
      " 8   make             180569 non-null  object        \n",
      " 9   model            180572 non-null  object        \n",
      " 10  system           190262 non-null  object        \n",
      " 11  veh_desc         190263 non-null  object        \n",
      " 12  vci_version      189349 non-null  object        \n",
      " 13  scan_method      190263 non-null  object        \n",
      " 14  batt_voltage     139506 non-null  object        \n",
      " 15  result_string    190263 non-null  object        \n",
      " 16  result           190263 non-null  object        \n",
      " 17  state            190263 non-null  object        \n",
      " 18  city             190263 non-null  object        \n",
      " 19  product_type     190263 non-null  object        \n",
      " 20  postal_code      190263 non-null  object        \n",
      "dtypes: datetime64[ns](1), float64(1), int64(1), object(18)\n",
      "memory usage: 31.9+ MB\n"
     ]
    }
   ],
   "source": [
    "diag_usage_df.info()"
   ]
  },
  {
   "cell_type": "code",
   "execution_count": 104,
   "id": "97993e02",
   "metadata": {},
   "outputs": [],
   "source": [
    "#save a version with shop info which contains the original siteId\n",
    "diag_usage_df.to_excel('DiagUsagePowerBI_merged_shop_info.xlsx', index=False)"
   ]
  },
  {
   "cell_type": "code",
   "execution_count": 105,
   "id": "02ea5fc4",
   "metadata": {},
   "outputs": [],
   "source": [
    "#drop the shop_info column to anonymize the data\n",
    "diag_usage_df = diag_usage_df.drop(columns=['shop_info'])"
   ]
  },
  {
   "cell_type": "code",
   "execution_count": null,
   "id": "87d01502",
   "metadata": {},
   "outputs": [],
   "source": [
    "#save completly anonymized and merged data\n",
    "diag_usage_df.to_excel('DiagUsagePowerBI_merged.xlsx', index=False)"
   ]
  },
  {
   "cell_type": "code",
   "execution_count": null,
   "id": "ee71d9c0",
   "metadata": {},
   "outputs": [],
   "source": []
  }
 ],
 "metadata": {
  "kernelspec": {
   "display_name": "base",
   "language": "python",
   "name": "python3"
  },
  "language_info": {
   "codemirror_mode": {
    "name": "ipython",
    "version": 3
   },
   "file_extension": ".py",
   "mimetype": "text/x-python",
   "name": "python",
   "nbconvert_exporter": "python",
   "pygments_lexer": "ipython3",
   "version": "3.11.7"
  }
 },
 "nbformat": 4,
 "nbformat_minor": 5
}
