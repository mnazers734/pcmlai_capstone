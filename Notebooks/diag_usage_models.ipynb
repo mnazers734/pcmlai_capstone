{
 "cells": [
  {
   "cell_type": "code",
   "execution_count": 1,
   "id": "67d51b16-3855-4391-8729-59752e7b4e1f",
   "metadata": {},
   "outputs": [],
   "source": [
    "import pandas as pd\n",
    "import numpy as np\n",
    "\n",
    "import matplotlib.pyplot as plt\n",
    "import seaborn as sns\n",
    "\n",
    "from sklearn.model_selection import train_test_split\n",
    "from sklearn.compose import make_column_selector, make_column_transformer\n",
    "from sklearn.preprocessing import OneHotEncoder, StandardScaler\n",
    "from sklearn.pipeline import Pipeline\n",
    "from sklearn.linear_model import LogisticRegression\n",
    "from sklearn.metrics import accuracy_score, confusion_matrix\n"
   ]
  },
  {
   "cell_type": "markdown",
   "id": "7dc18dfc",
   "metadata": {},
   "source": [
    "### Import cleaned dataset to be used for building ML Models to predict Scantool success."
   ]
  },
  {
   "cell_type": "code",
   "execution_count": 2,
   "id": "b324f815-d72b-4b76-80aa-2cc3db31c01f",
   "metadata": {},
   "outputs": [],
   "source": [
    "diag_usage_df = pd.read_excel('../Data/Diag_Usage_Full.xlsx', sheet_name='connect_system')"
   ]
  },
  {
   "cell_type": "code",
   "execution_count": 3,
   "id": "7fd6cf36-121e-4d41-8565-0f1f944046c5",
   "metadata": {},
   "outputs": [
    {
     "data": {
      "text/html": [
       "<div>\n",
       "<style scoped>\n",
       "    .dataframe tbody tr th:only-of-type {\n",
       "        vertical-align: middle;\n",
       "    }\n",
       "\n",
       "    .dataframe tbody tr th {\n",
       "        vertical-align: top;\n",
       "    }\n",
       "\n",
       "    .dataframe thead th {\n",
       "        text-align: right;\n",
       "    }\n",
       "</style>\n",
       "<table border=\"1\" class=\"dataframe\">\n",
       "  <thead>\n",
       "    <tr style=\"text-align: right;\">\n",
       "      <th></th>\n",
       "      <th>timestamp</th>\n",
       "      <th>siteId</th>\n",
       "      <th>OsName</th>\n",
       "      <th>client_OS</th>\n",
       "      <th>vin</th>\n",
       "      <th>year</th>\n",
       "      <th>make</th>\n",
       "      <th>model</th>\n",
       "      <th>system</th>\n",
       "      <th>veh_desc</th>\n",
       "      <th>...</th>\n",
       "      <th>scan_method</th>\n",
       "      <th>batt_voltage</th>\n",
       "      <th>result_string</th>\n",
       "      <th>result</th>\n",
       "      <th>state</th>\n",
       "      <th>city</th>\n",
       "      <th>product_type</th>\n",
       "      <th>postal_code</th>\n",
       "      <th>system_category</th>\n",
       "      <th>make_category</th>\n",
       "    </tr>\n",
       "  </thead>\n",
       "  <tbody>\n",
       "    <tr>\n",
       "      <th>68480</th>\n",
       "      <td>2024-10-10 12:32:23.785</td>\n",
       "      <td>499807</td>\n",
       "      <td>iOS</td>\n",
       "      <td>iOS 17.6.1</td>\n",
       "      <td>19XFL1H76NE</td>\n",
       "      <td>2022</td>\n",
       "      <td>Honda</td>\n",
       "      <td>Civic</td>\n",
       "      <td>Enhanced Powertrain</td>\n",
       "      <td>2022 Honda Civic</td>\n",
       "      <td>...</td>\n",
       "      <td>quick_scan</td>\n",
       "      <td>0.00</td>\n",
       "      <td>Successfully connected</td>\n",
       "      <td>1</td>\n",
       "      <td>SC</td>\n",
       "      <td>GREENVILLE</td>\n",
       "      <td>COLLISION</td>\n",
       "      <td>29607-2642</td>\n",
       "      <td>Enhanced Powertrain</td>\n",
       "      <td>asian_makes</td>\n",
       "    </tr>\n",
       "    <tr>\n",
       "      <th>152746</th>\n",
       "      <td>2025-01-11 01:04:02.221</td>\n",
       "      <td>537799</td>\n",
       "      <td>Android</td>\n",
       "      <td>Android 14</td>\n",
       "      <td>1HGCM56815A</td>\n",
       "      <td>2005</td>\n",
       "      <td>Honda</td>\n",
       "      <td>Accord</td>\n",
       "      <td>Enhanced Powertrain</td>\n",
       "      <td>2005 Honda Accord</td>\n",
       "      <td>...</td>\n",
       "      <td>quick_scan</td>\n",
       "      <td>13.39</td>\n",
       "      <td>Failed to connect to system</td>\n",
       "      <td>0</td>\n",
       "      <td>CA</td>\n",
       "      <td>Upland</td>\n",
       "      <td>COLLISION</td>\n",
       "      <td>91786-8438</td>\n",
       "      <td>Enhanced Powertrain</td>\n",
       "      <td>asian_makes</td>\n",
       "    </tr>\n",
       "    <tr>\n",
       "      <th>153296</th>\n",
       "      <td>2025-01-07 17:57:36.409</td>\n",
       "      <td>808039</td>\n",
       "      <td>Android</td>\n",
       "      <td>Android 8.1.0</td>\n",
       "      <td>5TDYSKFC6RS</td>\n",
       "      <td>2024</td>\n",
       "      <td>Toyota</td>\n",
       "      <td>Sienna</td>\n",
       "      <td>Enhanced Powertrain CAN</td>\n",
       "      <td>2024 Toyota Sienna</td>\n",
       "      <td>...</td>\n",
       "      <td>quick_scan</td>\n",
       "      <td>11.14</td>\n",
       "      <td>Successfully connected</td>\n",
       "      <td>1</td>\n",
       "      <td>DE</td>\n",
       "      <td>NEW CASTLE</td>\n",
       "      <td>COLLISION</td>\n",
       "      <td>19720</td>\n",
       "      <td>Enhanced Powertrain</td>\n",
       "      <td>asian_makes</td>\n",
       "    </tr>\n",
       "    <tr>\n",
       "      <th>64372</th>\n",
       "      <td>2024-11-01 15:45:54.575</td>\n",
       "      <td>429517</td>\n",
       "      <td>iOS</td>\n",
       "      <td>iOS 18.0.1</td>\n",
       "      <td>4T1BF3EK8BU</td>\n",
       "      <td>2011</td>\n",
       "      <td>Toyota</td>\n",
       "      <td>Camry</td>\n",
       "      <td>Enhanced Powertrain CAN</td>\n",
       "      <td>2011 Toyota Camry</td>\n",
       "      <td>...</td>\n",
       "      <td>quick_scan</td>\n",
       "      <td>12.22</td>\n",
       "      <td>Successfully connected</td>\n",
       "      <td>1</td>\n",
       "      <td>WA</td>\n",
       "      <td>Battle Ground</td>\n",
       "      <td>COLLISION</td>\n",
       "      <td>98604-8488</td>\n",
       "      <td>Enhanced Powertrain</td>\n",
       "      <td>asian_makes</td>\n",
       "    </tr>\n",
       "    <tr>\n",
       "      <th>147459</th>\n",
       "      <td>2025-01-14 18:10:55.274</td>\n",
       "      <td>72344</td>\n",
       "      <td>iPadOS</td>\n",
       "      <td>iPadOS 17.7.1</td>\n",
       "      <td>4S4BSAFC7J3</td>\n",
       "      <td>2018</td>\n",
       "      <td>Subaru</td>\n",
       "      <td>Outback</td>\n",
       "      <td>Enhanced Powertrain CAN</td>\n",
       "      <td>2018 Subaru Outback</td>\n",
       "      <td>...</td>\n",
       "      <td>quick_scan</td>\n",
       "      <td>14.22</td>\n",
       "      <td>Successfully connected</td>\n",
       "      <td>1</td>\n",
       "      <td>OR</td>\n",
       "      <td>Springfield</td>\n",
       "      <td>COLLISION</td>\n",
       "      <td>97477-5157</td>\n",
       "      <td>Enhanced Powertrain</td>\n",
       "      <td>asian_makes</td>\n",
       "    </tr>\n",
       "  </tbody>\n",
       "</table>\n",
       "<p>5 rows × 21 columns</p>\n",
       "</div>"
      ],
      "text/plain": [
       "                     timestamp  siteId   OsName      client_OS          vin  \\\n",
       "68480  2024-10-10 12:32:23.785  499807      iOS     iOS 17.6.1  19XFL1H76NE   \n",
       "152746 2025-01-11 01:04:02.221  537799  Android     Android 14  1HGCM56815A   \n",
       "153296 2025-01-07 17:57:36.409  808039  Android  Android 8.1.0  5TDYSKFC6RS   \n",
       "64372  2024-11-01 15:45:54.575  429517      iOS     iOS 18.0.1  4T1BF3EK8BU   \n",
       "147459 2025-01-14 18:10:55.274   72344   iPadOS  iPadOS 17.7.1  4S4BSAFC7J3   \n",
       "\n",
       "        year    make    model                   system             veh_desc  \\\n",
       "68480   2022   Honda    Civic      Enhanced Powertrain     2022 Honda Civic   \n",
       "152746  2005   Honda   Accord      Enhanced Powertrain    2005 Honda Accord   \n",
       "153296  2024  Toyota   Sienna  Enhanced Powertrain CAN   2024 Toyota Sienna   \n",
       "64372   2011  Toyota    Camry  Enhanced Powertrain CAN    2011 Toyota Camry   \n",
       "147459  2018  Subaru  Outback  Enhanced Powertrain CAN  2018 Subaru Outback   \n",
       "\n",
       "        ... scan_method batt_voltage                result_string result  \\\n",
       "68480   ...  quick_scan         0.00       Successfully connected      1   \n",
       "152746  ...  quick_scan        13.39  Failed to connect to system      0   \n",
       "153296  ...  quick_scan        11.14       Successfully connected      1   \n",
       "64372   ...  quick_scan        12.22       Successfully connected      1   \n",
       "147459  ...  quick_scan        14.22       Successfully connected      1   \n",
       "\n",
       "        state           city product_type postal_code      system_category  \\\n",
       "68480      SC     GREENVILLE    COLLISION  29607-2642  Enhanced Powertrain   \n",
       "152746     CA         Upland    COLLISION  91786-8438  Enhanced Powertrain   \n",
       "153296     DE     NEW CASTLE    COLLISION       19720  Enhanced Powertrain   \n",
       "64372      WA  Battle Ground    COLLISION  98604-8488  Enhanced Powertrain   \n",
       "147459     OR    Springfield    COLLISION  97477-5157  Enhanced Powertrain   \n",
       "\n",
       "       make_category  \n",
       "68480    asian_makes  \n",
       "152746   asian_makes  \n",
       "153296   asian_makes  \n",
       "64372    asian_makes  \n",
       "147459   asian_makes  \n",
       "\n",
       "[5 rows x 21 columns]"
      ]
     },
     "execution_count": 3,
     "metadata": {},
     "output_type": "execute_result"
    }
   ],
   "source": [
    "diag_usage_df.sample(5)"
   ]
  },
  {
   "cell_type": "code",
   "execution_count": 4,
   "id": "b2be0575",
   "metadata": {},
   "outputs": [
    {
     "name": "stdout",
     "output_type": "stream",
     "text": [
      "<class 'pandas.core.frame.DataFrame'>\n",
      "RangeIndex: 165218 entries, 0 to 165217\n",
      "Data columns (total 21 columns):\n",
      " #   Column           Non-Null Count   Dtype         \n",
      "---  ------           --------------   -----         \n",
      " 0   timestamp        165218 non-null  datetime64[ns]\n",
      " 1   siteId           165218 non-null  int64         \n",
      " 2   OsName           165218 non-null  object        \n",
      " 3   client_OS        165218 non-null  object        \n",
      " 4   vin              165218 non-null  object        \n",
      " 5   year             165218 non-null  int64         \n",
      " 6   make             165218 non-null  object        \n",
      " 7   model            165218 non-null  object        \n",
      " 8   system           165218 non-null  object        \n",
      " 9   veh_desc         165218 non-null  object        \n",
      " 10  vci_version      165218 non-null  object        \n",
      " 11  scan_method      165218 non-null  object        \n",
      " 12  batt_voltage     165218 non-null  float64       \n",
      " 13  result_string    165218 non-null  object        \n",
      " 14  result           165218 non-null  int64         \n",
      " 15  state            165218 non-null  object        \n",
      " 16  city             165218 non-null  object        \n",
      " 17  product_type     165218 non-null  object        \n",
      " 18  postal_code      165218 non-null  object        \n",
      " 19  system_category  165218 non-null  object        \n",
      " 20  make_category    165218 non-null  object        \n",
      "dtypes: datetime64[ns](1), float64(1), int64(3), object(16)\n",
      "memory usage: 26.5+ MB\n"
     ]
    }
   ],
   "source": [
    "diag_usage_df.info()"
   ]
  },
  {
   "cell_type": "markdown",
   "id": "f25fb1ca",
   "metadata": {},
   "source": [
    "### Two logistic regression models will be created - One with batt_voltage and one with it removed\n",
    "For the model that uses batt_voltage, invalid samples will be removed. This will result in approximately 25% less samples but will allow us to determine if batt_voltage of the vehicle is valuable in predicting the ability to communicate with a vehicle. "
   ]
  },
  {
   "cell_type": "code",
   "execution_count": 5,
   "id": "667ea5b9",
   "metadata": {},
   "outputs": [],
   "source": [
    "#remove features that are not useful\n",
    "features_to_remove = ['siteId', 'timestamp', 'OsName', 'client_OS', 'vin', 'veh_desc', 'vci_version', 'system', 'result_string', 'state', 'city', 'postal_code', 'product_type', 'make_category']\n",
    "lgr_model_df = diag_usage_df.drop(features_to_remove, axis = 1)\n",
    "\n",
    "lgr_model_df.rename(columns = {'system_category':'system'}, inplace = True)\n",
    "\n",
    "#convert year datatype to string. the age of the vehicle does not affect scanning success. the year is usfull for grouping into vehicle network architectures\n",
    "#lgr_model_df['year'] = lgr_model_df['year'].astype(str)\n",
    "\n",
    "#remove rows where battery voltage is 0 or less\n",
    "lgr_model_df_batt = lgr_model_df[lgr_model_df['batt_voltage'] > 0]\n",
    "\n",
    "#remove batt_voltage from lgr_model_df\n",
    "lgr_model_df = lgr_model_df.drop('batt_voltage', axis = 1)"
   ]
  },
  {
   "cell_type": "markdown",
   "id": "97c73c78",
   "metadata": {},
   "source": [
    "### Create train/test split\n",
    "Features that are not believed to contribute to predicting success communicating with the vehicle will be removed. Also, features shown not to contribute to the scanning success during EDA will also be removed.<br/>\n",
    "Note: While vin and veh_desc were important features during EDA, they will (at least initially be removed). The individual component features of the veh_desc will be used instead (make, model, year). The vin has too much information encoded in it and would cause overfitting. In the future, it may be possible to extract vehicle features from the vin that could be used for detailed models. "
   ]
  },
  {
   "cell_type": "code",
   "execution_count": 6,
   "id": "b997a867",
   "metadata": {},
   "outputs": [],
   "source": [
    "#create train test split with even result ratio\n",
    "X_train, X_test, y_train, y_test = train_test_split(lgr_model_df.drop(['result'], axis = 1), lgr_model_df['result'], random_state = 42,\n",
    "                                                   stratify = lgr_model_df['result'])\n",
    "\n",
    "\n"
   ]
  },
  {
   "cell_type": "code",
   "execution_count": 7,
   "id": "110a09a8",
   "metadata": {},
   "outputs": [
    {
     "data": {
      "text/html": [
       "<div>\n",
       "<style scoped>\n",
       "    .dataframe tbody tr th:only-of-type {\n",
       "        vertical-align: middle;\n",
       "    }\n",
       "\n",
       "    .dataframe tbody tr th {\n",
       "        vertical-align: top;\n",
       "    }\n",
       "\n",
       "    .dataframe thead th {\n",
       "        text-align: right;\n",
       "    }\n",
       "</style>\n",
       "<table border=\"1\" class=\"dataframe\">\n",
       "  <thead>\n",
       "    <tr style=\"text-align: right;\">\n",
       "      <th></th>\n",
       "      <th>year</th>\n",
       "      <th>make</th>\n",
       "      <th>model</th>\n",
       "      <th>scan_method</th>\n",
       "      <th>system</th>\n",
       "    </tr>\n",
       "  </thead>\n",
       "  <tbody>\n",
       "    <tr>\n",
       "      <th>51630</th>\n",
       "      <td>2014</td>\n",
       "      <td>Toyota</td>\n",
       "      <td>Sienna</td>\n",
       "      <td>quick_scan</td>\n",
       "      <td>Enhanced Powertrain</td>\n",
       "    </tr>\n",
       "    <tr>\n",
       "      <th>60881</th>\n",
       "      <td>2020</td>\n",
       "      <td>Hyundai</td>\n",
       "      <td>Accent</td>\n",
       "      <td>manual scan</td>\n",
       "      <td>Enhanced Powertrain</td>\n",
       "    </tr>\n",
       "    <tr>\n",
       "      <th>36854</th>\n",
       "      <td>2019</td>\n",
       "      <td>Subaru</td>\n",
       "      <td>Forester</td>\n",
       "      <td>manual scan</td>\n",
       "      <td>Enhanced Powertrain</td>\n",
       "    </tr>\n",
       "    <tr>\n",
       "      <th>67483</th>\n",
       "      <td>2023</td>\n",
       "      <td>Jeep</td>\n",
       "      <td>Grand</td>\n",
       "      <td>manual scan</td>\n",
       "      <td>Braking System</td>\n",
       "    </tr>\n",
       "    <tr>\n",
       "      <th>58145</th>\n",
       "      <td>2004</td>\n",
       "      <td>Nissan</td>\n",
       "      <td>Maxima</td>\n",
       "      <td>quick_scan</td>\n",
       "      <td>Enhanced Powertrain</td>\n",
       "    </tr>\n",
       "  </tbody>\n",
       "</table>\n",
       "</div>"
      ],
      "text/plain": [
       "       year     make     model  scan_method               system\n",
       "51630  2014   Toyota    Sienna   quick_scan  Enhanced Powertrain\n",
       "60881  2020  Hyundai    Accent  manual scan  Enhanced Powertrain\n",
       "36854  2019   Subaru  Forester  manual scan  Enhanced Powertrain\n",
       "67483  2023     Jeep     Grand  manual scan       Braking System\n",
       "58145  2004   Nissan    Maxima   quick_scan  Enhanced Powertrain"
      ]
     },
     "execution_count": 7,
     "metadata": {},
     "output_type": "execute_result"
    }
   ],
   "source": [
    "X_train.head()"
   ]
  },
  {
   "cell_type": "markdown",
   "id": "938f1d47",
   "metadata": {},
   "source": [
    "### Examine system feature distribution\n",
    "As addressed during EDA, the system feature is imbalanced with 95% of samples having the Enhanced Powertrain value. The next two highest systems are Braking System with 1.38% and Airbag Control System with 1.04%. These three will be kept and the remaining system values will be added to the 'other' category. "
   ]
  },
  {
   "cell_type": "code",
   "execution_count": 8,
   "id": "611aa67a",
   "metadata": {},
   "outputs": [],
   "source": [
    "#keep the top 3 systems and set the rest to 'other'\n",
    "#freq = lgr_model_df['system'].value_counts(normalize=True)\n",
    "\n",
    "# Determine which systems occur in at least 1% of the samples\n",
    "#valid_systems = freq[freq >= 0.01].index.tolist()\n",
    "\n",
    "# Apply the mapping to the training set: if a system is not in valid_systems, set it to 'other'\n",
    "#X_train['system'] = X_train['system'].apply(\n",
    "#    lambda x: x if x in valid_systems else 'other'\n",
    "#)\n",
    "\n",
    "# Apply the same mapping to the test set\n",
    "#X_test['system'] = X_test['system'].apply(\n",
    "#    lambda x: x if x in valid_systems else 'other'\n",
    "#)"
   ]
  },
  {
   "cell_type": "code",
   "execution_count": 9,
   "id": "e9d16615",
   "metadata": {},
   "outputs": [
    {
     "data": {
      "text/plain": [
       "system\n",
       "Enhanced Powertrain            0.955356\n",
       "Braking System                 0.013776\n",
       "Airbag Control System          0.010652\n",
       "Transmission Control System    0.004140\n",
       "Body Control System            0.002445\n",
       "Occupant Sensing System        0.002276\n",
       "Crash Safety System            0.002130\n",
       "TPMS                           0.001646\n",
       "ADAS                           0.001404\n",
       "other                          0.001211\n",
       "Power Steering System          0.000799\n",
       "HVAC Control System            0.000629\n",
       "Drive Motor Control System     0.000484\n",
       "Radio Control System           0.000412\n",
       "Fuel Pump                      0.000387\n",
       "Chassis Control System         0.000363\n",
       "Infotainment System            0.000339\n",
       "General Electronics System     0.000315\n",
       "Park Assist                    0.000291\n",
       "Battery Management System      0.000266\n",
       "Gateway                        0.000242\n",
       "Theft Deterrent                0.000194\n",
       "Head Lamp Control System       0.000097\n",
       "Telematics                     0.000097\n",
       "Accessory Power System         0.000024\n",
       "Fuel System                    0.000024\n",
       "Name: proportion, dtype: float64"
      ]
     },
     "execution_count": 9,
     "metadata": {},
     "output_type": "execute_result"
    }
   ],
   "source": [
    "X_test['system'].value_counts(normalize=True)"
   ]
  },
  {
   "cell_type": "markdown",
   "id": "f2c8a5c2",
   "metadata": {},
   "source": [
    "### Determine which models to keep\n",
    "During EDA, it was discovered that while the dataset contained 594 unique models. 95 models made up 80 percent of the sample data. These will be kept and remaining models will be added to the other category. "
   ]
  },
  {
   "cell_type": "code",
   "execution_count": 10,
   "id": "8515c2c4",
   "metadata": {},
   "outputs": [],
   "source": [
    "#return list that contains the passed in percentage of the data for the passed in attribute and dataframe\n",
    "def get_percentage_of_data(attribute, percentage, df):\n",
    "    num_attributes = df[attribute].nunique()\n",
    "    #print(f'Number of unique {attribute}s: {num_attributes}')\n",
    "    counts = df[attribute].value_counts(normalize=True)\n",
    "    cumulative_counts = counts.cumsum()\n",
    "    cumulative_counts\n",
    "    # Get the samples that make up percentage of the dataset\n",
    "    samples_percentage = cumulative_counts[cumulative_counts <= percentage].index.tolist()\n",
    "    return samples_percentage"
   ]
  },
  {
   "cell_type": "markdown",
   "id": "810110ca",
   "metadata": {},
   "source": [
    "### Create the logistic regression model"
   ]
  },
  {
   "cell_type": "code",
   "execution_count": 11,
   "id": "54c48333",
   "metadata": {},
   "outputs": [],
   "source": [
    "def Create_and_fit_lgr_model(X_train, y_train):\n",
    "    # Define the column transformer\n",
    "    selector = make_column_selector(dtype_include='object')\n",
    "    transformer = make_column_transformer((OneHotEncoder(drop='first', handle_unknown='ignore'), selector), remainder=StandardScaler())\n",
    "\n",
    "    lgr_pipe = Pipeline([('transformer', transformer),\n",
    "                    ('lgr', LogisticRegression(random_state=42, max_iter = 1000))])\n",
    "\n",
    "    # Fit the model\n",
    "    lgr_pipe.fit(X_train, y_train)\n",
    "\n",
    "    return lgr_pipe"
   ]
  },
  {
   "cell_type": "code",
   "execution_count": 12,
   "id": "c01a22b4",
   "metadata": {},
   "outputs": [
    {
     "name": "stdout",
     "output_type": "stream",
     "text": [
      "Training score base model: 0.8936673311113442\n"
     ]
    }
   ],
   "source": [
    "lgr_pipe = Create_and_fit_lgr_model(X_train, y_train)\n",
    "score = lgr_pipe.score(X_train, y_train)\n",
    "print(f'Training score base model: {score}')"
   ]
  },
  {
   "cell_type": "code",
   "execution_count": 13,
   "id": "11cc6d93",
   "metadata": {},
   "outputs": [],
   "source": [
    "#calculate model scores based on passed in confusion matrix\n",
    "def calculate_metrics(cm):\n",
    "  \n",
    "    # Extract values\n",
    "    TN, FP = cm[0, 0], cm[0, 1]\n",
    "    FN, TP = cm[1, 0], cm[1, 1]\n",
    "\n",
    "    # Calculate metrics safely\n",
    "    total = TN + FP + FN + TP\n",
    "    accuracy = (TP + TN) / total if total != 0 else 0\n",
    "    sensitivity = TP / (TP + FN) if (TP + FN) != 0 else 0  # True positive rate\n",
    "    specificity = TN / (TN + FP) if (TN + FP) != 0 else 0  # True negative rate\n",
    "    precision = TP / (TP + FP) if (TP + FP) != 0 else 0\n",
    "    f1_score = (2 * precision * sensitivity) / (precision + sensitivity) if (precision + sensitivity) != 0 else 0\n",
    "    npv = TN / (TN + FN) if (TN + FN) != 0 else 0  # Negative predictive value\n",
    "\n",
    "    metrics = {\n",
    "        \"accuracy\": accuracy,\n",
    "        \"sensitivity (recall)\": sensitivity,\n",
    "        \"specificity\": specificity,\n",
    "        \"precision\": precision,\n",
    "        \"f1_score\": f1_score,\n",
    "        \"negative predictive value\": npv\n",
    "    }\n",
    "    \n",
    "    return metrics"
   ]
  },
  {
   "cell_type": "code",
   "execution_count": 14,
   "id": "9ad50f57",
   "metadata": {},
   "outputs": [
    {
     "name": "stdout",
     "output_type": "stream",
     "text": [
      "Confusion Matrix:\n",
      "[[  518  4204]\n",
      " [  227 36356]]\n"
     ]
    },
    {
     "name": "stderr",
     "output_type": "stream",
     "text": [
      "C:\\Users\\mnaze\\AppData\\Roaming\\Python\\Python311\\site-packages\\sklearn\\preprocessing\\_encoders.py:242: UserWarning: Found unknown categories in columns [1] during transform. These unknown categories will be encoded as all zeros\n",
      "  warnings.warn(\n"
     ]
    },
    {
     "data": {
      "image/png": "[encoded data removed]",
      "text/plain": [
       "<Figure size 600x400 with 2 Axes>"
      ]
     },
     "metadata": {},
     "output_type": "display_data"
    }
   ],
   "source": [
    "# Generate predictions for the test set\n",
    "y_pred = lgr_pipe.predict(X_test)\n",
    "\n",
    "# Create the confusion matrix\n",
    "cm = confusion_matrix(y_test, y_pred)\n",
    "print(\"Confusion Matrix:\")\n",
    "print(cm)\n",
    "\n",
    "# Optional: Visualize the confusion matrix using a heatmap\n",
    "plt.figure(figsize=(6, 4))\n",
    "sns.heatmap(cm, annot=True, fmt='d', cmap='Blues')\n",
    "plt.xlabel('Predicted Label')\n",
    "plt.ylabel('True Label')\n",
    "plt.title('Confusion Matrix')\n",
    "plt.show()"
   ]
  },
  {
   "cell_type": "code",
   "execution_count": 15,
   "id": "17e9ad08",
   "metadata": {},
   "outputs": [
    {
     "name": "stdout",
     "output_type": "stream",
     "text": [
      "Metrics:\n",
      "accuracy: 0.8927\n",
      "sensitivity (recall): 0.9938\n",
      "specificity: 0.1097\n",
      "precision: 0.8964\n",
      "f1_score: 0.9426\n",
      "negative predictive value: 0.6953\n"
     ]
    }
   ],
   "source": [
    "metrics = calculate_metrics(cm)\n",
    "print(\"Metrics:\")  \n",
    "for metric, value in metrics.items():\n",
    "    print(f\"{metric}: {value:.4f}\")"
   ]
  },
  {
   "cell_type": "markdown",
   "id": "d2cf8eec",
   "metadata": {},
   "source": [
    "### Repeat considering battery voltage      "
   ]
  },
  {
   "cell_type": "code",
   "execution_count": 16,
   "id": "1e86a3ac",
   "metadata": {},
   "outputs": [],
   "source": [
    "#create train test split with even result ratio\n",
    "X_train_batt, X_test_batt, y_train_batt, y_test_batt = train_test_split(lgr_model_df_batt.drop(['result'], axis = 1), lgr_model_df_batt['result'], random_state = 42,\n",
    "                                                   stratify = lgr_model_df_batt['result'])"
   ]
  },
  {
   "cell_type": "code",
   "execution_count": 17,
   "id": "5e798beb",
   "metadata": {},
   "outputs": [
    {
     "name": "stdout",
     "output_type": "stream",
     "text": [
      "<class 'pandas.core.frame.DataFrame'>\n",
      "Index: 126646 entries, 0 to 165217\n",
      "Data columns (total 7 columns):\n",
      " #   Column        Non-Null Count   Dtype  \n",
      "---  ------        --------------   -----  \n",
      " 0   year          126646 non-null  int64  \n",
      " 1   make          126646 non-null  object \n",
      " 2   model         126646 non-null  object \n",
      " 3   scan_method   126646 non-null  object \n",
      " 4   batt_voltage  126646 non-null  float64\n",
      " 5   result        126646 non-null  int64  \n",
      " 6   system        126646 non-null  object \n",
      "dtypes: float64(1), int64(2), object(4)\n",
      "memory usage: 7.7+ MB\n"
     ]
    }
   ],
   "source": [
    "lgr_model_df_batt.info()"
   ]
  },
  {
   "cell_type": "code",
   "execution_count": 18,
   "id": "e80151ac",
   "metadata": {},
   "outputs": [],
   "source": [
    "#get the models that make up 80 percent of the data in the training  and test sets\n",
    "#models_xtrain_80 = get_percentage_of_data('model', 0.8, X_train_batt)\n",
    "#models_xtest_80 = get_percentage_of_data('model', 0.8, X_test_batt)"
   ]
  },
  {
   "cell_type": "code",
   "execution_count": 19,
   "id": "d55a8ad3",
   "metadata": {},
   "outputs": [
    {
     "name": "stdout",
     "output_type": "stream",
     "text": [
      "Training score with batt voltage: 0.8926661332434936\n"
     ]
    }
   ],
   "source": [
    "lgr_pipe = Create_and_fit_lgr_model(X_train_batt, y_train_batt)\n",
    "score = lgr_pipe.score(X_train_batt, y_train_batt)\n",
    "print(f'Training score with batt voltage: {score}')"
   ]
  },
  {
   "cell_type": "code",
   "execution_count": 20,
   "id": "e8fa4820",
   "metadata": {},
   "outputs": [
    {
     "name": "stdout",
     "output_type": "stream",
     "text": [
      "Confusion Matrix Considering Battery Voltage:\n",
      "[[  367  3270]\n",
      " [  147 27878]]\n"
     ]
    },
    {
     "name": "stderr",
     "output_type": "stream",
     "text": [
      "C:\\Users\\mnaze\\AppData\\Roaming\\Python\\Python311\\site-packages\\sklearn\\preprocessing\\_encoders.py:242: UserWarning: Found unknown categories in columns [1] during transform. These unknown categories will be encoded as all zeros\n",
      "  warnings.warn(\n"
     ]
    },
    {
     "data": {
      "image/png": "[encoded data removed]",
      "text/plain": [
       "<Figure size 600x400 with 2 Axes>"
      ]
     },
     "metadata": {},
     "output_type": "display_data"
    }
   ],
   "source": [
    "# Generate predictions for the test set\n",
    "y_pred_batt = lgr_pipe.predict(X_test_batt)\n",
    "\n",
    "# Create the confusion matrix\n",
    "cm = confusion_matrix(y_test_batt, y_pred_batt)\n",
    "print(\"Confusion Matrix Considering Battery Voltage:\")\n",
    "print(cm)\n",
    "\n",
    "# Optional: Visualize the confusion matrix using a heatmap\n",
    "plt.figure(figsize=(6, 4))\n",
    "sns.heatmap(cm, annot=True, fmt='d', cmap='Blues')\n",
    "plt.xlabel('Predicted Label')\n",
    "plt.ylabel('True Label')\n",
    "plt.title('Confusion Matrix')\n",
    "plt.show()"
   ]
  },
  {
   "cell_type": "code",
   "execution_count": 21,
   "id": "eb28ed97",
   "metadata": {},
   "outputs": [
    {
     "name": "stdout",
     "output_type": "stream",
     "text": [
      "Metrics:\n",
      "accuracy: 0.8921\n",
      "sensitivity (recall): 0.9948\n",
      "specificity: 0.1009\n",
      "precision: 0.8950\n",
      "f1_score: 0.9423\n",
      "negative predictive value: 0.7140\n"
     ]
    }
   ],
   "source": [
    "metrics = calculate_metrics(cm)\n",
    "print(\"Metrics:\")  \n",
    "for metric, value in metrics.items():\n",
    "    print(f\"{metric}: {value:.4f}\")"
   ]
  },
  {
   "cell_type": "markdown",
   "id": "e243f41b",
   "metadata": {},
   "source": [
    "#### Repeat training after reducing system and model counts"
   ]
  },
  {
   "cell_type": "code",
   "execution_count": 22,
   "id": "49a8eebb",
   "metadata": {},
   "outputs": [],
   "source": [
    "#get the models that make up 80 percent of the data in the training  and test sets\n",
    "models_xtrain_80 = get_percentage_of_data('model', 0.8, X_train)\n",
    "models_xtest_80 = get_percentage_of_data('model', 0.8, X_test)"
   ]
  },
  {
   "cell_type": "code",
   "execution_count": 23,
   "id": "e238dc89",
   "metadata": {},
   "outputs": [
    {
     "name": "stdout",
     "output_type": "stream",
     "text": [
      "95\n"
     ]
    }
   ],
   "source": [
    "type(models_xtrain_80)\n",
    "print(len(models_xtrain_80))"
   ]
  },
  {
   "cell_type": "markdown",
   "id": "a8c8d74f",
   "metadata": {},
   "source": [
    "#### 80 percent of the samples are made up by 95 out of 520 models\n",
    "The top 95 models will be kept and the remaining set to other"
   ]
  },
  {
   "cell_type": "code",
   "execution_count": 24,
   "id": "db69813f",
   "metadata": {},
   "outputs": [],
   "source": [
    "#keep 80 percent of models and set the rest to 'other'\n",
    "X_train['model'] = X_train['model'].apply(\n",
    "    lambda x: x if x in models_xtrain_80 else 'other'\n",
    ")\n",
    "\n",
    "X_test['model'] = X_test['model'].apply(\n",
    "    lambda x: x if x in models_xtest_80 else 'other'\n",
    ")"
   ]
  },
  {
   "cell_type": "markdown",
   "id": "5a8519b7",
   "metadata": {},
   "source": [
    "#### The enhanced powertrain system makes up 95 percent of samples"
   ]
  },
  {
   "cell_type": "code",
   "execution_count": 25,
   "id": "7076a64a",
   "metadata": {},
   "outputs": [],
   "source": [
    "#keep the top 3 systems and set the rest to 'other'\n",
    "freq = lgr_model_df['system'].value_counts(normalize=True)\n",
    "\n",
    "# Determine which systems occur in at least 1% of the samples\n",
    "valid_systems = freq[freq >= 0.01].index.tolist()\n",
    "\n",
    "# Apply the mapping to the training set: if a system is not in valid_systems, set it to 'other'\n",
    "X_train['system'] = X_train['system'].apply(\n",
    "    lambda x: x if x in valid_systems else 'other'\n",
    ")\n",
    "\n",
    "# Apply the same mapping to the test set\n",
    "X_test['system'] = X_test['system'].apply(\n",
    "    lambda x: x if x in valid_systems else 'other'\n",
    ")"
   ]
  },
  {
   "cell_type": "code",
   "execution_count": 26,
   "id": "bcaa372f",
   "metadata": {},
   "outputs": [
    {
     "name": "stdout",
     "output_type": "stream",
     "text": [
      "Training score 80 percent of models: 0.8902859264161145\n"
     ]
    }
   ],
   "source": [
    "lgr_pipe_80 = Create_and_fit_lgr_model(X_train, y_train)\n",
    "score = lgr_pipe_80.score(X_train, y_train) \n",
    "print(f'Training score 80 percent of models: {score}')"
   ]
  },
  {
   "cell_type": "code",
   "execution_count": 27,
   "id": "f5ff0712",
   "metadata": {},
   "outputs": [
    {
     "name": "stdout",
     "output_type": "stream",
     "text": [
      "Confusion Matrix with 80 percent of Makes:\n",
      "[[  372  4350]\n",
      " [  195 36388]]\n"
     ]
    },
    {
     "name": "stderr",
     "output_type": "stream",
     "text": [
      "C:\\Users\\mnaze\\AppData\\Roaming\\Python\\Python311\\site-packages\\sklearn\\preprocessing\\_encoders.py:242: UserWarning: Found unknown categories in columns [1] during transform. These unknown categories will be encoded as all zeros\n",
      "  warnings.warn(\n"
     ]
    },
    {
     "data": {
      "image/png": "[encoded data removed]",
      "text/plain": [
       "<Figure size 600x400 with 2 Axes>"
      ]
     },
     "metadata": {},
     "output_type": "display_data"
    }
   ],
   "source": [
    "# Generate predictions for the test set\n",
    "y_pred_base_80 = lgr_pipe_80.predict(X_test)\n",
    "\n",
    "# Create the confusion matrix\n",
    "cm = confusion_matrix(y_test, y_pred_base_80)\n",
    "print(\"Confusion Matrix with 80 percent of Makes:\")\n",
    "print(cm)\n",
    "\n",
    "# Optional: Visualize the confusion matrix using a heatmap\n",
    "plt.figure(figsize=(6, 4))\n",
    "sns.heatmap(cm, annot=True, fmt='d', cmap='Blues')\n",
    "plt.xlabel('Predicted Label')\n",
    "plt.ylabel('True Label')\n",
    "plt.title('Confusion Matrix')\n",
    "plt.show()"
   ]
  },
  {
   "cell_type": "code",
   "execution_count": 28,
   "id": "b8f1b73f",
   "metadata": {},
   "outputs": [
    {
     "name": "stdout",
     "output_type": "stream",
     "text": [
      "Metrics:\n",
      "accuracy: 0.8900\n",
      "sensitivity (recall): 0.9947\n",
      "specificity: 0.0788\n",
      "precision: 0.8932\n",
      "f1_score: 0.9412\n",
      "negative predictive value: 0.6561\n"
     ]
    }
   ],
   "source": [
    "metrics = calculate_metrics(cm)\n",
    "print(\"Metrics:\")   \n",
    "for metric, value in metrics.items():\n",
    "    print(f\"{metric}: {value:.4f}\")"
   ]
  },
  {
   "cell_type": "markdown",
   "id": "089424bd",
   "metadata": {},
   "source": [
    "#### Repeat with dataset with battery voltage   "
   ]
  },
  {
   "cell_type": "code",
   "execution_count": 29,
   "id": "2a29c49f",
   "metadata": {},
   "outputs": [],
   "source": [
    "#get the models that make up 80 percent of the data in the training  and test sets\n",
    "models_xtrain_80 = get_percentage_of_data('model', 0.8, X_train_batt)\n",
    "models_xtest_80 = get_percentage_of_data('model', 0.8, X_test_batt)"
   ]
  },
  {
   "cell_type": "code",
   "execution_count": 30,
   "id": "5f77e7e8",
   "metadata": {},
   "outputs": [
    {
     "name": "stdout",
     "output_type": "stream",
     "text": [
      "94\n"
     ]
    }
   ],
   "source": [
    "type(models_xtrain_80)\n",
    "print(len(models_xtrain_80))"
   ]
  },
  {
   "cell_type": "code",
   "execution_count": 31,
   "id": "7f5a7518",
   "metadata": {},
   "outputs": [],
   "source": [
    "#keep 80 percent of models and set the rest to 'other'\n",
    "X_train_batt['model'] = X_train_batt['model'].apply(\n",
    "    lambda x: x if x in models_xtrain_80 else 'other'\n",
    ")\n",
    "\n",
    "X_test_batt['model'] = X_test_batt['model'].apply(\n",
    "    lambda x: x if x in models_xtest_80 else 'other'\n",
    ")"
   ]
  },
  {
   "cell_type": "code",
   "execution_count": 32,
   "id": "7405bb7e",
   "metadata": {},
   "outputs": [],
   "source": [
    "#keep the top 3 systems and set the rest to 'other'\n",
    "freq = lgr_model_df['system'].value_counts(normalize=True)\n",
    "\n",
    "# Determine which systems occur in at least 1% of the samples\n",
    "valid_systems = freq[freq >= 0.01].index.tolist()\n",
    "\n",
    "# Apply the mapping to the training set: if a system is not in valid_systems, set it to 'other'\n",
    "X_train_batt['system'] = X_train_batt['system'].apply(\n",
    "    lambda x: x if x in valid_systems else 'other'\n",
    ")\n",
    "\n",
    "# Apply the same mapping to the test set\n",
    "X_test_batt['system'] = X_test_batt['system'].apply(\n",
    "    lambda x: x if x in valid_systems else 'other'\n",
    ")"
   ]
  },
  {
   "cell_type": "code",
   "execution_count": 33,
   "id": "51318cc0",
   "metadata": {},
   "outputs": [
    {
     "name": "stdout",
     "output_type": "stream",
     "text": [
      "Training score 80 percent of models with battery voltage: 0.8905184030994694\n"
     ]
    }
   ],
   "source": [
    "lgr_pipe_80_batt = Create_and_fit_lgr_model(X_train_batt, y_train_batt)\n",
    "score = lgr_pipe_80_batt.score(X_train_batt, y_train_batt) \n",
    "print(f'Training score 80 percent of models with battery voltage: {score}')"
   ]
  },
  {
   "cell_type": "code",
   "execution_count": 34,
   "id": "d2d63271",
   "metadata": {},
   "outputs": [
    {
     "name": "stdout",
     "output_type": "stream",
     "text": [
      "Confusion Matrix with 80 percent of Makes:\n",
      "[[  288  3349]\n",
      " [  123 27902]]\n"
     ]
    },
    {
     "name": "stderr",
     "output_type": "stream",
     "text": [
      "C:\\Users\\mnaze\\AppData\\Roaming\\Python\\Python311\\site-packages\\sklearn\\preprocessing\\_encoders.py:242: UserWarning: Found unknown categories in columns [1] during transform. These unknown categories will be encoded as all zeros\n",
      "  warnings.warn(\n"
     ]
    },
    {
     "data": {
      "image/png": "[encoded data removed]",
      "text/plain": [
       "<Figure size 600x400 with 2 Axes>"
      ]
     },
     "metadata": {},
     "output_type": "display_data"
    }
   ],
   "source": [
    "# Generate predictions for the test set\n",
    "y_pred_base_80_batt = lgr_pipe_80_batt.predict(X_test_batt)\n",
    "\n",
    "# Create the confusion matrix\n",
    "cm = confusion_matrix(y_test_batt, y_pred_base_80_batt)\n",
    "print(\"Confusion Matrix with 80 percent of Makes:\")\n",
    "print(cm)\n",
    "\n",
    "# Optional: Visualize the confusion matrix using a heatmap\n",
    "plt.figure(figsize=(6, 4))\n",
    "sns.heatmap(cm, annot=True, fmt='d', cmap='Blues')\n",
    "plt.xlabel('Predicted Label')\n",
    "plt.ylabel('True Label')\n",
    "plt.title('Confusion Matrix')\n",
    "plt.show()"
   ]
  },
  {
   "cell_type": "code",
   "execution_count": 35,
   "id": "0d2b8e9e",
   "metadata": {},
   "outputs": [
    {
     "name": "stdout",
     "output_type": "stream",
     "text": [
      "Metrics:\n",
      "accuracy: 0.8903\n",
      "sensitivity (recall): 0.9956\n",
      "specificity: 0.0792\n",
      "precision: 0.8928\n",
      "f1_score: 0.9414\n",
      "negative predictive value: 0.7007\n"
     ]
    }
   ],
   "source": [
    "metrics = calculate_metrics(cm)\n",
    "print(\"Metrics:\")   \n",
    "for metric, value in metrics.items():\n",
    "    print(f\"{metric}: {value:.4f}\")"
   ]
  },
  {
   "cell_type": "code",
   "execution_count": null,
   "id": "99902b42",
   "metadata": {},
   "outputs": [],
   "source": []
  }
 ],
 "metadata": {
  "kernelspec": {
   "display_name": "base",
   "language": "python",
   "name": "python3"
  },
  "language_info": {
   "codemirror_mode": {
    "name": "ipython",
    "version": 3
   },
   "file_extension": ".py",
   "mimetype": "text/x-python",
   "name": "python",
   "nbconvert_exporter": "python",
   "pygments_lexer": "ipython3",
   "version": "3.11.7"
  }
 },
 "nbformat": 4,
 "nbformat_minor": 5
}
